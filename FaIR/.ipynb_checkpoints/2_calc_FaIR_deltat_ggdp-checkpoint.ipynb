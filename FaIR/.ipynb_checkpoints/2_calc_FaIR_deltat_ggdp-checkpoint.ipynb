{
 "cells": [
  {
   "cell_type": "markdown",
   "id": "a2b44309",
   "metadata": {},
   "source": [
    "## Script for generating temperature response to country-level emissions preturbation by way of FaIR\n",
    "#### Mustafa Zahid, 05/27/22"
   ]
  },
  {
   "cell_type": "code",
   "execution_count": null,
   "id": "618847cc",
   "metadata": {},
   "outputs": [],
   "source": [
    "#Importing main packages as well as packages to generate the distributions \n",
    "# from which we will pull the sets of parameters\n",
    "from scipy.stats import lognorm, norm\n",
    "import numpy as np\n",
    "import matplotlib.pyplot as plt\n",
    "import pandas as pd"
   ]
  },
  {
   "cell_type": "code",
   "execution_count": null,
   "id": "0ab87cbc",
   "metadata": {},
   "outputs": [],
   "source": []
  },
  {
   "cell_type": "markdown",
   "id": "6eb9d0dd",
   "metadata": {},
   "source": [
    "### Part I: Generating climatic parameters (following Ashwin et al., 2021)"
   ]
  },
  {
   "cell_type": "code",
   "execution_count": null,
   "id": "55deba01",
   "metadata": {},
   "outputs": [],
   "source": [
    "# Writing the functions to generate distributions for our climate parameters (inputs in FaIR model)\n",
    "def lognorm_from_percentiles(x1, p1, x2, p2):\n",
    "    \"\"\" Return a log-normal distribuion X parametrized by:\n",
    "    \n",
    "            P(X < p1) = x1\n",
    "            P(X < p2) = x2\n",
    "    \"\"\"\n",
    "    x1 = np.log(x1)\n",
    "    x2 = np.log(x2)\n",
    "    p1ppf = norm.ppf(p1)\n",
    "    p2ppf = norm.ppf(p2)\n",
    "    \n",
    "    scale = (x2 - x1) / (p2ppf - p1ppf)\n",
    "    mean = ((x1 * p2ppf) - (x2 * p1ppf)) / (p2ppf - p1ppf)\n",
    "    \n",
    "    return np.random.lognormal(mean, scale, 1000)"
   ]
  },
  {
   "cell_type": "code",
   "execution_count": null,
   "id": "066c91d5",
   "metadata": {},
   "outputs": [],
   "source": []
  },
  {
   "cell_type": "code",
   "execution_count": null,
   "id": "2a7cfad0",
   "metadata": {},
   "outputs": [],
   "source": []
  },
  {
   "cell_type": "code",
   "execution_count": null,
   "id": "49da4516",
   "metadata": {},
   "outputs": [],
   "source": [
    "# Writing the functions to generate distributions for our climate parameters (inputs in FaIR model)\n",
    "def norm_from_percentiles(x1, p1, x2, p2):\n",
    "    \"\"\" Return a normal distribuion X parametrized by:\n",
    "    \n",
    "            P(X < p1) = x1\n",
    "            P(X < p2) = x2\n",
    "    \"\"\"\n",
    "    p1ppf = norm.ppf(p1)\n",
    "    p2ppf = norm.ppf(p2)\n",
    "\n",
    "    location = ((x1 * p2ppf) - (x2 * p1ppf)) / (p2ppf - p1ppf)\n",
    "    scale = (x2 - x1) / (p2ppf - p1ppf)\n",
    "\n",
    "    return np.random.normal(location, scale, 1000)"
   ]
  },
  {
   "cell_type": "code",
   "execution_count": null,
   "id": "d88537fe",
   "metadata": {},
   "outputs": [],
   "source": []
  },
  {
   "cell_type": "code",
   "execution_count": null,
   "id": "6b61fc2e",
   "metadata": {},
   "outputs": [],
   "source": [
    "# Now iterating over the parameters to pull from the distributions\n",
    "tcr = []\n",
    "rwf = []\n",
    "tau = []\n",
    "d2 = []\n",
    "ecs = []\n",
    "idi = []\n",
    "for i in range(1,101):\n",
    "        idi.append(i)\n",
    "        tcr.append(np.random.choice(lognorm_from_percentiles(1, 0.17, 2.5, 0.83)))\n",
    "        rwf.append(np.random.choice(norm_from_percentiles(0.45, 0.25, 0.75, 0.75)))\n",
    "        tau.append(np.random.choice(np.random.normal(4.03, 1.79, 1000)))\n",
    "        d2.append(np.random.choice(lognorm_from_percentiles(1.6, 0.05, 8.4, 0.95))) "
   ]
  },
  {
   "cell_type": "code",
   "execution_count": null,
   "id": "cd44431b",
   "metadata": {},
   "outputs": [],
   "source": []
  },
  {
   "cell_type": "code",
   "execution_count": null,
   "id": "d4aaeb35",
   "metadata": {},
   "outputs": [],
   "source": [
    "# Now generate a dataframe and add the pulled parameters together\n",
    "df = pd.DataFrame()\n",
    "df[\"rwfnum\"] = rwf\n",
    "df[\"taunum\"] = tau\n",
    "df[\"tcrnum\"] = tcr\n",
    "df[\"d2num\"] = d2"
   ]
  },
  {
   "cell_type": "code",
   "execution_count": null,
   "id": "1cc74d1c",
   "metadata": {},
   "outputs": [],
   "source": []
  },
  {
   "cell_type": "code",
   "execution_count": null,
   "id": "b984e78a",
   "metadata": {},
   "outputs": [],
   "source": []
  },
  {
   "cell_type": "code",
   "execution_count": null,
   "id": "823c8ab5",
   "metadata": {},
   "outputs": [],
   "source": []
  },
  {
   "cell_type": "code",
   "execution_count": null,
   "id": "7a514772",
   "metadata": {},
   "outputs": [],
   "source": [
    "# Following Ashwin et al., we restrict our parameters \n",
    "#tau\n",
    "df = df[df[\"taunum\"] > 0] \n",
    "df = df[df[\"taunum\"] < (2*3.95)]\n",
    "\n",
    "#rwf\n",
    "df = df[df[\"rwfnum\"] < 1]\n",
    "df = df[df[\"rwfnum\"] > np.percentile(df[\"rwfnum\"],6)]\n",
    "\n",
    "#ecs\n",
    "df[\"ecs\"] = df[\"tcrnum\"] / df[\"rwfnum\"]"
   ]
  },
  {
   "cell_type": "code",
   "execution_count": null,
   "id": "38dfe9cd",
   "metadata": {},
   "outputs": [],
   "source": []
  },
  {
   "cell_type": "code",
   "execution_count": null,
   "id": "aa752d89",
   "metadata": {},
   "outputs": [],
   "source": []
  },
  {
   "cell_type": "code",
   "execution_count": null,
   "id": "1837abd8",
   "metadata": {},
   "outputs": [],
   "source": []
  },
  {
   "cell_type": "code",
   "execution_count": null,
   "id": "f30594ec",
   "metadata": {},
   "outputs": [],
   "source": [
    "#generate an ID for each of the sets of parameters\n",
    "df[\"idnum\"] = range(len(df))"
   ]
  },
  {
   "cell_type": "code",
   "execution_count": null,
   "id": "b7ad9431",
   "metadata": {},
   "outputs": [],
   "source": []
  },
  {
   "cell_type": "code",
   "execution_count": null,
   "id": "20f2e45e",
   "metadata": {},
   "outputs": [],
   "source": []
  },
  {
   "cell_type": "code",
   "execution_count": null,
   "id": "343dae6d",
   "metadata": {},
   "outputs": [],
   "source": [
    "df"
   ]
  },
  {
   "cell_type": "code",
   "execution_count": null,
   "id": "bb28db6d",
   "metadata": {},
   "outputs": [],
   "source": []
  },
  {
   "cell_type": "code",
   "execution_count": null,
   "id": "a915a6d3",
   "metadata": {},
   "outputs": [],
   "source": []
  },
  {
   "cell_type": "markdown",
   "id": "34f999a9",
   "metadata": {},
   "source": [
    "### Part II: Running the FaIR model by iterating over emissions preturbation scenarios"
   ]
  },
  {
   "cell_type": "code",
   "execution_count": null,
   "id": "d3bc6f5a",
   "metadata": {},
   "outputs": [],
   "source": []
  },
  {
   "cell_type": "code",
   "execution_count": null,
   "id": "6ac90ffd",
   "metadata": {},
   "outputs": [],
   "source": [
    "# read in the needed libraries \n",
    "import numpy as np\n",
    "import sys\n",
    "import pandas as pd\n",
    "import matplotlib.pyplot as plt\n",
    "import seaborn as sn\n",
    "from fair import *\n",
    "#%matplotlib inline"
   ]
  },
  {
   "cell_type": "code",
   "execution_count": null,
   "id": "9b8e7899",
   "metadata": {},
   "outputs": [],
   "source": []
  },
  {
   "cell_type": "code",
   "execution_count": null,
   "id": "f8557146",
   "metadata": {},
   "outputs": [],
   "source": []
  },
  {
   "cell_type": "code",
   "execution_count": null,
   "id": "f525d634",
   "metadata": {},
   "outputs": [],
   "source": []
  },
  {
   "cell_type": "code",
   "execution_count": null,
   "id": "eea2f8ff",
   "metadata": {},
   "outputs": [],
   "source": []
  },
  {
   "cell_type": "code",
   "execution_count": null,
   "id": "1c5961b7",
   "metadata": {},
   "outputs": [],
   "source": [
    "# read the emissions country-year-level data\n",
    "data = pd.read_csv('long_term_emissions_data_new.csv')  \n",
    "data1 = pd.read_csv(\"country_lvl_emms_new.csv\")"
   ]
  },
  {
   "cell_type": "code",
   "execution_count": null,
   "id": "a21964e1",
   "metadata": {},
   "outputs": [],
   "source": []
  },
  {
   "cell_type": "code",
   "execution_count": null,
   "id": "53910593",
   "metadata": {},
   "outputs": [],
   "source": [
    "# read the emissions country-year-level data\n",
    "data = pd.read_csv('long_term_emissions_data_new_ssp2.csv')  \n",
    "data1 = pd.read_csv(\"country_lvl_emms_new.csv\")"
   ]
  },
  {
   "cell_type": "code",
   "execution_count": null,
   "id": "0fc965a9",
   "metadata": {},
   "outputs": [],
   "source": [
    "# read the emissions country-year-level data\n",
    "data = pd.read_csv('long_term_emissions_data_new_ssp19.csv')  \n",
    "data1 = pd.read_csv(\"country_lvl_emms_new.csv\")"
   ]
  },
  {
   "cell_type": "code",
   "execution_count": null,
   "id": "a3cae7cd",
   "metadata": {},
   "outputs": [],
   "source": [
    "data"
   ]
  },
  {
   "cell_type": "code",
   "execution_count": null,
   "id": "3d1f47c9",
   "metadata": {},
   "outputs": [],
   "source": []
  },
  {
   "cell_type": "code",
   "execution_count": null,
   "id": "a2ed1d09",
   "metadata": {},
   "outputs": [],
   "source": []
  },
  {
   "cell_type": "code",
   "execution_count": null,
   "id": "b54403ea",
   "metadata": {},
   "outputs": [],
   "source": []
  },
  {
   "cell_type": "code",
   "execution_count": null,
   "id": "dd6116be",
   "metadata": {},
   "outputs": [],
   "source": [
    "# read the emissions country-year-level data\n",
    "data = pd.read_csv('long_term_emissions_data_new_ssp126.csv')  \n",
    "data1 = pd.read_csv(\"country_lvl_emms_new.csv\")"
   ]
  },
  {
   "cell_type": "code",
   "execution_count": null,
   "id": "c529e331",
   "metadata": {},
   "outputs": [],
   "source": []
  },
  {
   "cell_type": "code",
   "execution_count": null,
   "id": "3de5032b",
   "metadata": {},
   "outputs": [],
   "source": []
  },
  {
   "cell_type": "code",
   "execution_count": null,
   "id": "1cad590a",
   "metadata": {},
   "outputs": [],
   "source": []
  },
  {
   "cell_type": "code",
   "execution_count": null,
   "id": "912c74cb",
   "metadata": {},
   "outputs": [],
   "source": [
    "data1 =  pd.DataFrame.copy(data)"
   ]
  },
  {
   "cell_type": "code",
   "execution_count": null,
   "id": "caacabab",
   "metadata": {},
   "outputs": [],
   "source": []
  },
  {
   "cell_type": "code",
   "execution_count": null,
   "id": "23f0b73a",
   "metadata": {},
   "outputs": [],
   "source": []
  },
  {
   "cell_type": "code",
   "execution_count": null,
   "id": "2af95321",
   "metadata": {},
   "outputs": [],
   "source": []
  },
  {
   "cell_type": "code",
   "execution_count": null,
   "id": "1899c784",
   "metadata": {},
   "outputs": [],
   "source": []
  },
  {
   "cell_type": "code",
   "execution_count": null,
   "id": "d896385a",
   "metadata": {},
   "outputs": [],
   "source": []
  },
  {
   "cell_type": "code",
   "execution_count": null,
   "id": "b778235e",
   "metadata": {},
   "outputs": [],
   "source": []
  },
  {
   "cell_type": "code",
   "execution_count": null,
   "id": "9798e7e3",
   "metadata": {},
   "outputs": [],
   "source": []
  },
  {
   "cell_type": "code",
   "execution_count": null,
   "id": "422f3d8b",
   "metadata": {},
   "outputs": [],
   "source": [
    "data1[\"Total\"][data1[\"Year\"] > 2020] = 0"
   ]
  },
  {
   "cell_type": "code",
   "execution_count": null,
   "id": "c99e5467",
   "metadata": {},
   "outputs": [],
   "source": []
  },
  {
   "cell_type": "code",
   "execution_count": null,
   "id": "a1aa8c9b",
   "metadata": {},
   "outputs": [],
   "source": []
  },
  {
   "cell_type": "code",
   "execution_count": null,
   "id": "338f6e40",
   "metadata": {},
   "outputs": [],
   "source": []
  },
  {
   "cell_type": "code",
   "execution_count": null,
   "id": "a657f5e0",
   "metadata": {},
   "outputs": [],
   "source": []
  },
  {
   "cell_type": "code",
   "execution_count": null,
   "id": "31af0c8f",
   "metadata": {},
   "outputs": [],
   "source": []
  },
  {
   "cell_type": "code",
   "execution_count": null,
   "id": "87363b54",
   "metadata": {},
   "outputs": [],
   "source": []
  },
  {
   "cell_type": "code",
   "execution_count": null,
   "id": "c06686bc",
   "metadata": {},
   "outputs": [],
   "source": [
    "data1"
   ]
  },
  {
   "cell_type": "code",
   "execution_count": null,
   "id": "d87e3d18",
   "metadata": {},
   "outputs": [],
   "source": [
    " # The following function returns an empty dataframe in the correct format for use in FaIR.\n",
    "test_emissions = return_empty_emissions(df_to_copy=False, \n",
    "                                        start_year=0, \n",
    "                                        end_year=(120), \n",
    "                                        timestep=1, \n",
    "                                        scen_names=['Test'], \n",
    "                                        gases_in = ['carbon_dioxide'])"
   ]
  },
  {
   "cell_type": "code",
   "execution_count": null,
   "id": "a458cf93",
   "metadata": {},
   "outputs": [],
   "source": []
  },
  {
   "cell_type": "code",
   "execution_count": null,
   "id": "e20d311c",
   "metadata": {},
   "outputs": [],
   "source": []
  },
  {
   "cell_type": "code",
   "execution_count": null,
   "id": "3d62b3a4",
   "metadata": {},
   "outputs": [],
   "source": []
  },
  {
   "cell_type": "code",
   "execution_count": null,
   "id": "170c10f8",
   "metadata": {},
   "outputs": [],
   "source": []
  },
  {
   "cell_type": "code",
   "execution_count": null,
   "id": "ea734cc2",
   "metadata": {},
   "outputs": [],
   "source": []
  },
  {
   "cell_type": "code",
   "execution_count": null,
   "id": "93b314e9",
   "metadata": {},
   "outputs": [],
   "source": []
  },
  {
   "cell_type": "code",
   "execution_count": null,
   "id": "c1571d2f",
   "metadata": {},
   "outputs": [],
   "source": []
  },
  {
   "cell_type": "code",
   "execution_count": null,
   "id": "cf8c9d8e",
   "metadata": {},
   "outputs": [],
   "source": []
  },
  {
   "cell_type": "code",
   "execution_count": null,
   "id": "d93a287d",
   "metadata": {},
   "outputs": [],
   "source": [
    "  # create an empty forcing dataframe compatible with test_emissions:\n",
    "test_forcing = return_empty_forcing(test_emissions)\n",
    "\n",
    "    # Note that the scenario names in the emissions and forcing dataframe must be identical for \n",
    "    #the model to run: FaIR assumes each emissions scenario corresponds directly to a single forcing scenario.\n",
    "    \n",
    "    # Generate a default parameter dataframe:\n",
    "test_gas_parameters = get_gas_parameter_defaults()\n",
    "test_thermal_parameters = get_thermal_parameter_defaults()\n",
    "\n",
    "    # This is what the gas parameter dataframe looks like:\n",
    "test_gas_parameters.head()\n",
    "test_gas_parameters = test_gas_parameters.reindex(test_emissions.columns.levels[1],\n",
    "                                                  axis=1,\n",
    "                                                  level=1)"
   ]
  },
  {
   "cell_type": "code",
   "execution_count": null,
   "id": "11addc68",
   "metadata": {},
   "outputs": [],
   "source": []
  },
  {
   "cell_type": "code",
   "execution_count": null,
   "id": "4deb6bef",
   "metadata": {},
   "outputs": [],
   "source": []
  },
  {
   "cell_type": "code",
   "execution_count": null,
   "id": "354e0a48",
   "metadata": {},
   "outputs": [],
   "source": []
  },
  {
   "cell_type": "code",
   "execution_count": null,
   "id": "be0a707b",
   "metadata": {},
   "outputs": [],
   "source": []
  },
  {
   "cell_type": "code",
   "execution_count": null,
   "id": "bdeebd61",
   "metadata": {},
   "outputs": [],
   "source": []
  },
  {
   "cell_type": "code",
   "execution_count": null,
   "id": "1d5e2c24",
   "metadata": {},
   "outputs": [],
   "source": []
  },
  {
   "cell_type": "code",
   "execution_count": null,
   "id": "b4059aa7",
   "metadata": {},
   "outputs": [],
   "source": []
  },
  {
   "cell_type": "code",
   "execution_count": null,
   "id": "34967676",
   "metadata": {},
   "outputs": [],
   "source": [
    "list_of_isos = pd.unique(data1[\"ISO3\"])"
   ]
  },
  {
   "cell_type": "code",
   "execution_count": null,
   "id": "7a7c2531",
   "metadata": {},
   "outputs": [],
   "source": []
  },
  {
   "cell_type": "code",
   "execution_count": null,
   "id": "85e4b4f8",
   "metadata": {},
   "outputs": [],
   "source": []
  },
  {
   "cell_type": "code",
   "execution_count": null,
   "id": "77d6aa36",
   "metadata": {},
   "outputs": [],
   "source": []
  },
  {
   "cell_type": "code",
   "execution_count": null,
   "id": "962bf762",
   "metadata": {},
   "outputs": [],
   "source": [
    "list_of_isos"
   ]
  },
  {
   "cell_type": "code",
   "execution_count": null,
   "id": "d754c95d",
   "metadata": {},
   "outputs": [],
   "source": []
  },
  {
   "cell_type": "code",
   "execution_count": null,
   "id": "67fe786f",
   "metadata": {},
   "outputs": [],
   "source": [
    "master_array = np.array_split(list_of_isos, 2)"
   ]
  },
  {
   "cell_type": "code",
   "execution_count": null,
   "id": "f06f90a7",
   "metadata": {},
   "outputs": [],
   "source": []
  },
  {
   "cell_type": "code",
   "execution_count": null,
   "id": "b51ae2c6",
   "metadata": {},
   "outputs": [],
   "source": []
  },
  {
   "cell_type": "code",
   "execution_count": null,
   "id": "4832cbed",
   "metadata": {},
   "outputs": [],
   "source": []
  },
  {
   "cell_type": "code",
   "execution_count": null,
   "id": "75c07ab0",
   "metadata": {},
   "outputs": [],
   "source": [
    "master_array[0]"
   ]
  },
  {
   "cell_type": "code",
   "execution_count": null,
   "id": "289c8d72",
   "metadata": {},
   "outputs": [],
   "source": [
    "i = \"USA\""
   ]
  },
  {
   "cell_type": "code",
   "execution_count": null,
   "id": "2003eef2",
   "metadata": {},
   "outputs": [],
   "source": [
    "data_iso = data1[data1[\"ISO3\"] == i]"
   ]
  },
  {
   "cell_type": "code",
   "execution_count": null,
   "id": "d5180852",
   "metadata": {},
   "outputs": [],
   "source": [
    "data_iso = data_iso[[\"Year\", \"Total\"]]\n",
    "data_iso"
   ]
  },
  {
   "cell_type": "code",
   "execution_count": null,
   "id": "8da77444",
   "metadata": {},
   "outputs": [],
   "source": [
    "data_new = pd.merge(data, data_iso, on = \"Year\")"
   ]
  },
  {
   "cell_type": "code",
   "execution_count": null,
   "id": "31f5be92",
   "metadata": {},
   "outputs": [],
   "source": [
    "data_new"
   ]
  },
  {
   "cell_type": "code",
   "execution_count": null,
   "id": "ff972387",
   "metadata": {},
   "outputs": [],
   "source": [
    "data_iso.rename(columns = {'Total':'Total_iso'}, inplace = True)"
   ]
  },
  {
   "cell_type": "code",
   "execution_count": null,
   "id": "a32c7034",
   "metadata": {},
   "outputs": [],
   "source": [
    "list_dfs = []\n",
    "for m in range(1,len(df)): \n",
    "    for i in master_array[1]:\n",
    "        # shut off emissions from country i\n",
    "        data_iso = data1[data1[\"ISO3\"] == i]\n",
    "        data_iso = data_iso[[\"Year\", \"Total\"]]\n",
    "        data_iso.rename(columns = {'Total':'Total_iso'}, inplace = True)\n",
    "        data_new = pd.merge(data, data_iso, on = \"Year\")\n",
    "        data_new[\"Total\"] = data_new[\"Total\"] - data_new[\"Total_iso\"]\n",
    "        data_new = data_new[[\"Year\", \"Total\"]]\n",
    "        data_new.rename(columns = {'Total':'carbon_dioxide'}, inplace = True) #change name to match emissions data\n",
    "        data_new.rename(columns = {'Year':'year'}, inplace = True) #change name to match emissions data\n",
    "        data_new[\"year\"] = pd.to_numeric(data_new[\"year\"]) \n",
    "        # since the carbon emissions are on MtCO2, we need to convert to GtC\n",
    "        data_new['carbon_dioxide'] = (data_new['carbon_dioxide'] / 1000) / 3.67 \n",
    "        data_new = data_new[data_new[\"year\"] >= 1980].reset_index() # only keep 1980 and forward\n",
    "        data_new['year'] = data_new['year'] - (min(data_new['year']) - 1) \n",
    "        #feed updated emissions to test_emissions\n",
    "        test_emissions[(\"Test\", \"carbon_dioxide\")] = data_new['carbon_dioxide']\n",
    "        # test_gas_parameters[(\"default\", \"carbon_dioxide\")][6] = list(df1[\"taunum\"])[0]\n",
    "        \n",
    "        # therefore use central estimates for d1-3, q1; and set q2, q3 to return \"correct\" TCR/ECS values\n",
    "        df1 = df[df['idnum'] == m] \n",
    "        d1 = 0.903\n",
    "        d2 = list(df1[\"d2num\"])[0]\n",
    "        d3 = 355\n",
    "        q1 = 0.180\n",
    "        rwf = list(df1[\"rwfnum\"])[0]\n",
    "\n",
    "        TCR = list(df1[\"tcrnum\"])[0]\n",
    "        ECS = TCR / rwf\n",
    "        F_2x = 3.759\n",
    "\n",
    "        v1 = (1-(d1/69.66) * (1-np.exp(-69.66/d1)) )\n",
    "        v2 = (1-(d2/69.66) * (1-np.exp(-69.66/d2)) )\n",
    "        v3 = (1-(d3/69.66) * (1-np.exp(-69.66/d3)) )\n",
    "\n",
    "        q3 = (((TCR/F_2x) - q1*(v1-v2) - (ECS/F_2x)*v2) / (v3-v2))\n",
    "        q2 = (ECS/F_2x - q1 -  q3)\n",
    "\n",
    "        test_thermal_parameters[\"default\",2][1] = q2\n",
    "        test_thermal_parameters[\"default\",3][1] = q3\n",
    "\n",
    "            #test_thermal_parameters = pd.DataFrame([[d1,d2,d3],[q1,q2,q3]],\n",
    "             #                                      index=['d','q'],\n",
    "              #                                     columns=pd.MultiIndex.from_product([['default'],\n",
    "                      #                                                                 [1,2,3]]))\n",
    "        pulse_run = run_FaIR(emissions_in=test_emissions,\n",
    "                             forcing_in=test_forcing,\n",
    "                             gas_parameters=test_gas_parameters,\n",
    "                             thermal_parameters=test_thermal_parameters)\n",
    "        temp_response = pulse_run['T']\n",
    "        #(temp_response.temp_response).apply(lambda x: float(x))   \n",
    "            #temp_response[\"temp_response\"] = float(temp_response[\"temp_response\"]) \n",
    "            #temp_response.to_csv('temp_response/tempresponse' + \"_\" + str(k) + \"_\" + str(iso) + '.csv') \n",
    "        temp_response[\"loop\"] = str(m) + \"_loop_\" + i   \n",
    "        list_dfs.append(temp_response)"
   ]
  },
  {
   "cell_type": "code",
   "execution_count": null,
   "id": "05016dc5",
   "metadata": {},
   "outputs": [],
   "source": [
    "list_dfs"
   ]
  },
  {
   "cell_type": "code",
   "execution_count": null,
   "id": "ee330793",
   "metadata": {},
   "outputs": [],
   "source": [
    "pd.concat(list_dfs).to_csv(\"fair_temp_resp_k80_hist_fut_ssp1261_noemms.csv\")"
   ]
  },
  {
   "cell_type": "code",
   "execution_count": null,
   "id": "be2238fa",
   "metadata": {},
   "outputs": [],
   "source": []
  },
  {
   "cell_type": "code",
   "execution_count": null,
   "id": "2df410be",
   "metadata": {},
   "outputs": [],
   "source": []
  },
  {
   "cell_type": "code",
   "execution_count": null,
   "id": "e6232bf9",
   "metadata": {},
   "outputs": [],
   "source": []
  },
  {
   "cell_type": "code",
   "execution_count": null,
   "id": "a412af72",
   "metadata": {},
   "outputs": [],
   "source": []
  },
  {
   "cell_type": "code",
   "execution_count": null,
   "id": "50cc86c0",
   "metadata": {},
   "outputs": [],
   "source": []
  },
  {
   "cell_type": "code",
   "execution_count": null,
   "id": "acedfd94",
   "metadata": {},
   "outputs": [],
   "source": []
  },
  {
   "cell_type": "code",
   "execution_count": null,
   "id": "eaa6d587",
   "metadata": {},
   "outputs": [],
   "source": []
  },
  {
   "cell_type": "code",
   "execution_count": null,
   "id": "52a7c593",
   "metadata": {},
   "outputs": [],
   "source": []
  },
  {
   "cell_type": "code",
   "execution_count": null,
   "id": "9a6bfedd",
   "metadata": {},
   "outputs": [],
   "source": []
  },
  {
   "cell_type": "code",
   "execution_count": null,
   "id": "786536b3",
   "metadata": {},
   "outputs": [],
   "source": []
  },
  {
   "cell_type": "code",
   "execution_count": null,
   "id": "d3967d6f",
   "metadata": {},
   "outputs": [],
   "source": []
  },
  {
   "cell_type": "code",
   "execution_count": null,
   "id": "3a506c26",
   "metadata": {},
   "outputs": [],
   "source": []
  },
  {
   "cell_type": "code",
   "execution_count": null,
   "id": "10cfd713",
   "metadata": {},
   "outputs": [],
   "source": []
  },
  {
   "cell_type": "code",
   "execution_count": null,
   "id": "c03fff34",
   "metadata": {},
   "outputs": [],
   "source": []
  },
  {
   "cell_type": "code",
   "execution_count": null,
   "id": "63eb3fbd",
   "metadata": {},
   "outputs": [],
   "source": []
  },
  {
   "cell_type": "code",
   "execution_count": null,
   "id": "14ad262f",
   "metadata": {},
   "outputs": [],
   "source": []
  },
  {
   "cell_type": "code",
   "execution_count": null,
   "id": "24a6de61",
   "metadata": {},
   "outputs": [],
   "source": []
  },
  {
   "cell_type": "code",
   "execution_count": null,
   "id": "0d330264",
   "metadata": {},
   "outputs": [],
   "source": []
  },
  {
   "cell_type": "code",
   "execution_count": null,
   "id": "80eae844",
   "metadata": {},
   "outputs": [],
   "source": []
  },
  {
   "cell_type": "code",
   "execution_count": null,
   "id": "351ae237",
   "metadata": {},
   "outputs": [],
   "source": []
  },
  {
   "cell_type": "code",
   "execution_count": null,
   "id": "7b29628e",
   "metadata": {},
   "outputs": [],
   "source": [
    "data_iso = data1[data1[\"ISO3\"] == \"ALB\"]"
   ]
  },
  {
   "cell_type": "code",
   "execution_count": null,
   "id": "37bc95f5",
   "metadata": {},
   "outputs": [],
   "source": [
    "data_iso = data_iso[[\"Year\", \"Total\"]]"
   ]
  },
  {
   "cell_type": "code",
   "execution_count": null,
   "id": "3731702f",
   "metadata": {},
   "outputs": [],
   "source": [
    "data_iso"
   ]
  },
  {
   "cell_type": "code",
   "execution_count": null,
   "id": "5c4f2065",
   "metadata": {},
   "outputs": [],
   "source": [
    "data_iso.rename(columns = {'Total':'Total_iso'}, inplace = True)"
   ]
  },
  {
   "cell_type": "code",
   "execution_count": null,
   "id": "6e5f0d4c",
   "metadata": {},
   "outputs": [],
   "source": [
    "data_new = pd.merge(data, data_iso, on = \"Year\")"
   ]
  },
  {
   "cell_type": "code",
   "execution_count": null,
   "id": "8c21c149",
   "metadata": {},
   "outputs": [],
   "source": [
    "data_new[\"Total\"] = data_new[\"Total\"] - data_new[\"Total_iso\"]"
   ]
  },
  {
   "cell_type": "code",
   "execution_count": null,
   "id": "e322dbab",
   "metadata": {},
   "outputs": [],
   "source": [
    "data_new = data_new[[\"Year\", \"Total\"]]"
   ]
  },
  {
   "cell_type": "code",
   "execution_count": null,
   "id": "5b26787c",
   "metadata": {},
   "outputs": [],
   "source": [
    "data_new.rename(columns = {'Total':'carbon_dioxide'}, inplace = True) #change name to match emissions data"
   ]
  },
  {
   "cell_type": "code",
   "execution_count": null,
   "id": "e099a445",
   "metadata": {},
   "outputs": [],
   "source": [
    "data_new.rename(columns = {'Year':'year'}, inplace = True) #change name to match emissions data\n",
    "data_new[\"year\"] = pd.to_numeric(data_new[\"year\"]) \n",
    "        # since the carbon emissions are on MtCO2, we need to convert to GtC\n",
    "data_new['carbon_dioxide'] = (data_new['carbon_dioxide'] / 1000) / 3.67 \n",
    "data_new = data_new[data_new[\"year\"] >= 1980].reset_index() # only keep 1980 and forward\n",
    "data_new['year'] = data_new['year'] - (min(data_new['year']) - 1) \n",
    "        #feed updated emissions to test_emissions\n",
    "test_emissions[(\"Test\", \"carbon_dioxide\")] = data_new['carbon_dioxide']\n",
    "        # test_gas_parameters[(\"default\", \"carbon_dioxide\")][6] = list(df1[\"ta"
   ]
  },
  {
   "cell_type": "code",
   "execution_count": null,
   "id": "ac839292",
   "metadata": {},
   "outputs": [],
   "source": [
    "list_dfs = []\n",
    "for m in range(1,len(df)): \n",
    "  #  for i in master_array[9]:\n",
    "        # shut off emissions from country i\n",
    "#        data_iso = data1[data1[\"ISO3\"] == i]\n",
    " #       data_iso = data_iso[[\"Year\", \"Total\"]]\n",
    "  #      data_iso.rename(columns = {'Total':'Total_iso'}, inplace = True)\n",
    "   #     data_new = pd.merge(data, data_iso, on = \"Year\")\n",
    "    #    data_new[\"Total\"] = data_new[\"Total\"] - data_new[\"Total_iso\"]\n",
    "    data_new = data1\n",
    "    data_new = data_new[[\"Year\", \"Total\"]]\n",
    "    data_new.rename(columns = {'Total':'carbon_dioxide'}, inplace = True) #change name to match emissions data\n",
    "    data_new.rename(columns = {'Year':'year'}, inplace = True) #change name to match emissions data\n",
    "    data_new[\"year\"] = pd.to_numeric(data_new[\"year\"]) \n",
    "    # since the carbon emissions are on MtCO2, we need to convert to GtC\n",
    "    data_new['carbon_dioxide'] = (data_new['carbon_dioxide'] / 1000) / 3.67 \n",
    "    data_new = data_new[data_new[\"year\"] >= 1980].reset_index() # only keep 1980 and forward\n",
    "    data_new['year'] = data_new['year'] - (min(data_new['year']) - 1) \n",
    "    #feed updated emissions to test_emissions\n",
    "    test_emissions[(\"Test\", \"carbon_dioxide\")] = data_new['carbon_dioxide']\n",
    "        # test_gas_parameters[(\"default\", \"carbon_dioxide\")][6] = list(df1[\"taunum\"])[0]\n",
    "        \n",
    "        # therefore use central estimates for d1-3, q1; and set q2, q3 to return \"correct\" TCR/ECS values\n",
    "    df1 = df[df['idnum'] == m] \n",
    "    d1 = 0.903\n",
    "    d2 = list(df1[\"d2num\"])[0]\n",
    "    d3 = 355\n",
    "    q1 = 0.180\n",
    "    rwf = list(df1[\"rwfnum\"])[0]\n",
    "\n",
    "    TCR = list(df1[\"tcrnum\"])[0]\n",
    "    ECS = TCR / rwf\n",
    "    F_2x = 3.759\n",
    "\n",
    "    v1 = (1-(d1/69.66) * (1-np.exp(-69.66/d1)) )\n",
    "    v2 = (1-(d2/69.66) * (1-np.exp(-69.66/d2)) )\n",
    "    v3 = (1-(d3/69.66) * (1-np.exp(-69.66/d3)) )\n",
    "\n",
    "    q3 = (((TCR/F_2x) - q1*(v1-v2) - (ECS/F_2x)*v2) / (v3-v2))\n",
    "    q2 = (ECS/F_2x - q1 -  q3)\n",
    "\n",
    "    test_thermal_parameters[\"default\",2][1] = q2\n",
    "    test_thermal_parameters[\"default\",3][1] = q3\n",
    "\n",
    "            #test_thermal_parameters = pd.DataFrame([[d1,d2,d3],[q1,q2,q3]],\n",
    "             #                                      index=['d','q'],\n",
    "              #                                     columns=pd.MultiIndex.from_product([['default'],\n",
    "                      #                                                                 [1,2,3]]))\n",
    "    pulse_run = run_FaIR(emissions_in=test_emissions,\n",
    "                         forcing_in=test_forcing,\n",
    "                         gas_parameters=test_gas_parameters,\n",
    "                         thermal_parameters=test_thermal_parameters)\n",
    "    temp_response = pulse_run['T']\n",
    "        #(temp_response.temp_response).apply(lambda x: float(x))   \n",
    "            #temp_response[\"temp_response\"] = float(temp_response[\"temp_response\"]) \n",
    "            #temp_response.to_csv('temp_response/tempresponse' + \"_\" + str(k) + \"_\" + str(iso) + '.csv') \n",
    "    temp_response[\"loop\"] = str(m) + \"_loop_all\" \n",
    "    list_dfs.append(temp_response)"
   ]
  },
  {
   "cell_type": "code",
   "execution_count": null,
   "id": "c27a3d48",
   "metadata": {},
   "outputs": [],
   "source": []
  },
  {
   "cell_type": "code",
   "execution_count": null,
   "id": "b5c32672",
   "metadata": {},
   "outputs": [],
   "source": []
  },
  {
   "cell_type": "code",
   "execution_count": null,
   "id": "1da7b73e",
   "metadata": {},
   "outputs": [],
   "source": []
  },
  {
   "cell_type": "code",
   "execution_count": null,
   "id": "e7a7108b",
   "metadata": {},
   "outputs": [],
   "source": []
  },
  {
   "cell_type": "code",
   "execution_count": null,
   "id": "f6e5216d",
   "metadata": {},
   "outputs": [],
   "source": []
  },
  {
   "cell_type": "code",
   "execution_count": null,
   "id": "1340947a",
   "metadata": {},
   "outputs": [],
   "source": []
  },
  {
   "cell_type": "code",
   "execution_count": null,
   "id": "b8bc9d0c",
   "metadata": {},
   "outputs": [],
   "source": []
  },
  {
   "cell_type": "code",
   "execution_count": null,
   "id": "018025b3",
   "metadata": {},
   "outputs": [],
   "source": []
  },
  {
   "cell_type": "code",
   "execution_count": null,
   "id": "4916b3aa",
   "metadata": {},
   "outputs": [],
   "source": []
  },
  {
   "cell_type": "code",
   "execution_count": null,
   "id": "95f4e0d4",
   "metadata": {},
   "outputs": [],
   "source": []
  },
  {
   "cell_type": "code",
   "execution_count": null,
   "id": "12bb4548",
   "metadata": {},
   "outputs": [],
   "source": []
  },
  {
   "cell_type": "code",
   "execution_count": null,
   "id": "213b8229",
   "metadata": {},
   "outputs": [],
   "source": []
  },
  {
   "cell_type": "code",
   "execution_count": null,
   "id": "5655256b",
   "metadata": {},
   "outputs": [],
   "source": []
  },
  {
   "cell_type": "code",
   "execution_count": null,
   "id": "7b0b8882",
   "metadata": {},
   "outputs": [],
   "source": []
  },
  {
   "cell_type": "code",
   "execution_count": null,
   "id": "874ffee0",
   "metadata": {},
   "outputs": [],
   "source": []
  },
  {
   "cell_type": "code",
   "execution_count": null,
   "id": "70d2a608",
   "metadata": {},
   "outputs": [],
   "source": [
    "pd.concat(list_dfs).to_csv(\"fair_temp_resp_k80_futssp119_noemms.csv\")"
   ]
  },
  {
   "cell_type": "code",
   "execution_count": null,
   "id": "053ad804",
   "metadata": {},
   "outputs": [],
   "source": []
  },
  {
   "cell_type": "code",
   "execution_count": null,
   "id": "426993d5",
   "metadata": {},
   "outputs": [],
   "source": []
  },
  {
   "cell_type": "code",
   "execution_count": null,
   "id": "169877eb",
   "metadata": {},
   "outputs": [],
   "source": []
  },
  {
   "cell_type": "code",
   "execution_count": null,
   "id": "ac027387",
   "metadata": {},
   "outputs": [],
   "source": []
  },
  {
   "cell_type": "code",
   "execution_count": null,
   "id": "59c6aabd",
   "metadata": {},
   "outputs": [],
   "source": []
  },
  {
   "cell_type": "code",
   "execution_count": null,
   "id": "96124feb",
   "metadata": {},
   "outputs": [],
   "source": []
  },
  {
   "cell_type": "code",
   "execution_count": null,
   "id": "8a2e2df0",
   "metadata": {},
   "outputs": [],
   "source": []
  },
  {
   "cell_type": "code",
   "execution_count": null,
   "id": "db49e198",
   "metadata": {},
   "outputs": [],
   "source": []
  },
  {
   "cell_type": "code",
   "execution_count": null,
   "id": "d3eda459",
   "metadata": {},
   "outputs": [],
   "source": []
  },
  {
   "cell_type": "code",
   "execution_count": null,
   "id": "ad8b1929",
   "metadata": {},
   "outputs": [],
   "source": []
  },
  {
   "cell_type": "code",
   "execution_count": null,
   "id": "7a59eb93",
   "metadata": {},
   "outputs": [],
   "source": []
  },
  {
   "cell_type": "code",
   "execution_count": null,
   "id": "cf7a5302",
   "metadata": {},
   "outputs": [],
   "source": []
  },
  {
   "cell_type": "code",
   "execution_count": null,
   "id": "cb7f72dc",
   "metadata": {},
   "outputs": [],
   "source": []
  },
  {
   "cell_type": "code",
   "execution_count": null,
   "id": "c4efe615",
   "metadata": {},
   "outputs": [],
   "source": []
  },
  {
   "cell_type": "code",
   "execution_count": null,
   "id": "4951ca01",
   "metadata": {},
   "outputs": [],
   "source": []
  },
  {
   "cell_type": "code",
   "execution_count": null,
   "id": "9950635d",
   "metadata": {},
   "outputs": [],
   "source": []
  },
  {
   "cell_type": "code",
   "execution_count": null,
   "id": "6375a039",
   "metadata": {},
   "outputs": [],
   "source": [
    "pd.concat(list_dfs).to_csv(\"fair_temp_resp_k80_hist_futall_ssp245_noemms.csv\")"
   ]
  },
  {
   "cell_type": "code",
   "execution_count": null,
   "id": "3d27638a",
   "metadata": {},
   "outputs": [],
   "source": []
  },
  {
   "cell_type": "code",
   "execution_count": null,
   "id": "d87fa7de",
   "metadata": {},
   "outputs": [],
   "source": []
  },
  {
   "cell_type": "code",
   "execution_count": null,
   "id": "e0051c10",
   "metadata": {},
   "outputs": [],
   "source": [
    "data"
   ]
  },
  {
   "cell_type": "code",
   "execution_count": null,
   "id": "497d9bdd",
   "metadata": {},
   "outputs": [],
   "source": [
    "data[data[\"Year\"] > 2020][\"Total\"] = 0"
   ]
  },
  {
   "cell_type": "code",
   "execution_count": null,
   "id": "f3fcb1cd",
   "metadata": {},
   "outputs": [],
   "source": [
    "data[\"Total\"][data[\"Year\"] > 2020] = 0"
   ]
  },
  {
   "cell_type": "code",
   "execution_count": null,
   "id": "bff1a6cc",
   "metadata": {},
   "outputs": [],
   "source": [
    "data"
   ]
  },
  {
   "cell_type": "code",
   "execution_count": null,
   "id": "9f75fd8d",
   "metadata": {},
   "outputs": [],
   "source": [
    "list_dfs = []\n",
    "for m in range(1,len(df)): \n",
    "  #  for i in master_array[9]:\n",
    "        # shut off emissions from country i\n",
    "#        data_iso = data1[data1[\"ISO3\"] == i]\n",
    " #       data_iso = data_iso[[\"Year\", \"Total\"]]\n",
    "  #      data_iso.rename(columns = {'Total':'Total_iso'}, inplace = True)\n",
    "   #     data_new = pd.merge(data, data_iso, on = \"Year\")\n",
    "    #    data_new[\"Total\"] = data_new[\"Total\"] - data_new[\"Total_iso\"]\n",
    "    data_new = data\n",
    "    data_new = data_new[[\"Year\", \"Total\"]]\n",
    "    data_new.rename(columns = {'Total':'carbon_dioxide'}, inplace = True) #change name to match emissions data\n",
    "    data_new.rename(columns = {'Year':'year'}, inplace = True) #change name to match emissions data\n",
    "    data_new[\"year\"] = pd.to_numeric(data_new[\"year\"]) \n",
    "    # since the carbon emissions are on MtCO2, we need to convert to GtC\n",
    "    data_new['carbon_dioxide'] = (data_new['carbon_dioxide'] / 1000) / 3.67 \n",
    "    data_new = data_new[data_new[\"year\"] >= 1980].reset_index() # only keep 1980 and forward\n",
    "    data_new['year'] = data_new['year'] - (min(data_new['year']) - 1) \n",
    "    #feed updated emissions to test_emissions\n",
    "    test_emissions[(\"Test\", \"carbon_dioxide\")] = data_new['carbon_dioxide']\n",
    "        # test_gas_parameters[(\"default\", \"carbon_dioxide\")][6] = list(df1[\"taunum\"])[0]\n",
    "        \n",
    "        # therefore use central estimates for d1-3, q1; and set q2, q3 to return \"correct\" TCR/ECS values\n",
    "    df1 = df[df['idnum'] == m] \n",
    "    d1 = 0.903\n",
    "    d2 = list(df1[\"d2num\"])[0]\n",
    "    d3 = 355\n",
    "    q1 = 0.180\n",
    "    rwf = list(df1[\"rwfnum\"])[0]\n",
    "\n",
    "    TCR = list(df1[\"tcrnum\"])[0]\n",
    "    ECS = TCR / rwf\n",
    "    F_2x = 3.759\n",
    "\n",
    "    v1 = (1-(d1/69.66) * (1-np.exp(-69.66/d1)) )\n",
    "    v2 = (1-(d2/69.66) * (1-np.exp(-69.66/d2)) )\n",
    "    v3 = (1-(d3/69.66) * (1-np.exp(-69.66/d3)) )\n",
    "\n",
    "    q3 = (((TCR/F_2x) - q1*(v1-v2) - (ECS/F_2x)*v2) / (v3-v2))\n",
    "    q2 = (ECS/F_2x - q1 -  q3)\n",
    "\n",
    "    test_thermal_parameters[\"default\",2][1] = q2\n",
    "    test_thermal_parameters[\"default\",3][1] = q3\n",
    "\n",
    "            #test_thermal_parameters = pd.DataFrame([[d1,d2,d3],[q1,q2,q3]],\n",
    "             #                                      index=['d','q'],\n",
    "              #                                     columns=pd.MultiIndex.from_product([['default'],\n",
    "                      #                                                                 [1,2,3]]))\n",
    "    pulse_run = run_FaIR(emissions_in=test_emissions,\n",
    "                         forcing_in=test_forcing,\n",
    "                         gas_parameters=test_gas_parameters,\n",
    "                         thermal_parameters=test_thermal_parameters)\n",
    "    temp_response = pulse_run['T']\n",
    "        #(temp_response.temp_response).apply(lambda x: float(x))   \n",
    "            #temp_response[\"temp_response\"] = float(temp_response[\"temp_response\"]) \n",
    "            #temp_response.to_csv('temp_response/tempresponse' + \"_\" + str(k) + \"_\" + str(iso) + '.csv') \n",
    "    temp_response[\"loop\"] = str(m) + \"_loop_all\" \n",
    "    list_dfs.append(temp_response)"
   ]
  },
  {
   "cell_type": "code",
   "execution_count": null,
   "id": "c5d28e52",
   "metadata": {},
   "outputs": [],
   "source": [
    "pd.concat(list_dfs).to_csv(\"test_noemms_ssp.csv\")"
   ]
  },
  {
   "cell_type": "code",
   "execution_count": null,
   "id": "981fae81",
   "metadata": {},
   "outputs": [],
   "source": [
    "pd.concat(list_dfs).to_csv(\"fair_temp_response_futssp_noemms.csv\")"
   ]
  },
  {
   "cell_type": "code",
   "execution_count": null,
   "id": "069ad111",
   "metadata": {},
   "outputs": [],
   "source": []
  },
  {
   "cell_type": "code",
   "execution_count": null,
   "id": "04ff3264",
   "metadata": {},
   "outputs": [],
   "source": []
  },
  {
   "cell_type": "code",
   "execution_count": null,
   "id": "c79a7a39",
   "metadata": {},
   "outputs": [],
   "source": [
    "pd.concat(list_dfs).to_csv(\"fair_temp_response_1980_2020_nousa.csv\")"
   ]
  },
  {
   "cell_type": "code",
   "execution_count": null,
   "id": "f45a7666",
   "metadata": {},
   "outputs": [],
   "source": [
    "pd.concat(list_dfs).to_csv(\"fair_temp_response_1750_2100_test_min11980.csv\")"
   ]
  },
  {
   "cell_type": "code",
   "execution_count": null,
   "id": "fa4d9d17",
   "metadata": {},
   "outputs": [],
   "source": [
    "data = pd.read_csv('long_term_emissions_data.csv')  "
   ]
  },
  {
   "cell_type": "code",
   "execution_count": null,
   "id": "f6a1deac",
   "metadata": {},
   "outputs": [],
   "source": [
    "data1 = pd.read_csv(\"country_lvl_emms.csv\")"
   ]
  },
  {
   "cell_type": "code",
   "execution_count": null,
   "id": "2f6d3841",
   "metadata": {},
   "outputs": [],
   "source": [
    "data_zwe = data1[data1[\"ISO3\"] == \"ZWE\"]"
   ]
  },
  {
   "cell_type": "code",
   "execution_count": null,
   "id": "807738b0",
   "metadata": {},
   "outputs": [],
   "source": [
    "data_zwe = data_zwe[[\"Year\", \"Total\"]]"
   ]
  },
  {
   "cell_type": "code",
   "execution_count": null,
   "id": "a9da3fd6",
   "metadata": {},
   "outputs": [],
   "source": [
    "data_zwe.rename(columns = {'Total':'Total_iso'}, inplace = True)"
   ]
  },
  {
   "cell_type": "code",
   "execution_count": null,
   "id": "0fdf23c8",
   "metadata": {},
   "outputs": [],
   "source": [
    "data_new = pd.merge(data, data_zwe, on = \"Year\")"
   ]
  },
  {
   "cell_type": "code",
   "execution_count": null,
   "id": "7be4ce65",
   "metadata": {},
   "outputs": [],
   "source": [
    "data_new[\"Total\"] = data_new[\"Total\"] - data_new[\"Total_iso\"]"
   ]
  },
  {
   "cell_type": "code",
   "execution_count": null,
   "id": "e642e060",
   "metadata": {},
   "outputs": [],
   "source": [
    "data_new"
   ]
  },
  {
   "cell_type": "code",
   "execution_count": null,
   "id": "57e5f93e",
   "metadata": {},
   "outputs": [],
   "source": [
    "data"
   ]
  },
  {
   "cell_type": "code",
   "execution_count": null,
   "id": "f94d3b9b",
   "metadata": {},
   "outputs": [],
   "source": []
  },
  {
   "cell_type": "code",
   "execution_count": null,
   "id": "e0b736fd",
   "metadata": {},
   "outputs": [],
   "source": [
    "data_new = data"
   ]
  },
  {
   "cell_type": "code",
   "execution_count": null,
   "id": "d7bdeea6",
   "metadata": {},
   "outputs": [],
   "source": [
    "data_new"
   ]
  },
  {
   "cell_type": "code",
   "execution_count": null,
   "id": "b867b200",
   "metadata": {},
   "outputs": [],
   "source": [
    "data_new = data_new[[\"Year\", \"Total\"]]"
   ]
  },
  {
   "cell_type": "code",
   "execution_count": null,
   "id": "90aa10e4",
   "metadata": {},
   "outputs": [],
   "source": [
    "data_new.rename(columns = {'Total':'carbon_dioxide'}, inplace = True) #change name to match emissions data"
   ]
  },
  {
   "cell_type": "code",
   "execution_count": null,
   "id": "aecac674",
   "metadata": {},
   "outputs": [],
   "source": [
    "data_new.rename(columns = {'Year':'year'}, inplace = True) #change name to match emissions data"
   ]
  },
  {
   "cell_type": "code",
   "execution_count": null,
   "id": "08df90f9",
   "metadata": {},
   "outputs": [],
   "source": [
    "data1.rename(columns = {'Year':'year'}, inplace = True) #change name to match emissions data"
   ]
  },
  {
   "cell_type": "code",
   "execution_count": null,
   "id": "60a21503",
   "metadata": {},
   "outputs": [],
   "source": [
    "data_new[\"year\"] = pd.to_numeric(data_new[\"year\"]) "
   ]
  },
  {
   "cell_type": "code",
   "execution_count": null,
   "id": "4f5feeda",
   "metadata": {},
   "outputs": [],
   "source": [
    "data_new = pd.merge(data_new, data1, on = \"year\")"
   ]
  },
  {
   "cell_type": "code",
   "execution_count": null,
   "id": "20620d9b",
   "metadata": {},
   "outputs": [],
   "source": [
    "data_new"
   ]
  },
  {
   "cell_type": "code",
   "execution_count": null,
   "id": "f38e27ff",
   "metadata": {},
   "outputs": [],
   "source": [
    "data_new[\"carbon_dioxide\"] = data_new[\"carbon_dioxide\"] - data_new[\"Total\"]"
   ]
  },
  {
   "cell_type": "code",
   "execution_count": null,
   "id": "46062954",
   "metadata": {},
   "outputs": [],
   "source": [
    "data_new"
   ]
  },
  {
   "cell_type": "code",
   "execution_count": null,
   "id": "f09699e3",
   "metadata": {},
   "outputs": [],
   "source": []
  },
  {
   "cell_type": "code",
   "execution_count": null,
   "id": "1ce60213",
   "metadata": {},
   "outputs": [],
   "source": []
  },
  {
   "cell_type": "code",
   "execution_count": null,
   "id": "d14456b9",
   "metadata": {},
   "outputs": [],
   "source": []
  },
  {
   "cell_type": "code",
   "execution_count": null,
   "id": "f274d56e",
   "metadata": {},
   "outputs": [],
   "source": []
  },
  {
   "cell_type": "code",
   "execution_count": null,
   "id": "790c2415",
   "metadata": {},
   "outputs": [],
   "source": [
    "list_dfs = []\n",
    "for m in range(1,len(df)): \n",
    "  #  for i in master_array[9]:\n",
    "        # shut off emissions from country i\n",
    "#        data_iso = data1[data1[\"ISO3\"] == i]\n",
    " #       data_iso = data_iso[[\"Year\", \"Total\"]]\n",
    "  #      data_iso.rename(columns = {'Total':'Total_iso'}, inplace = True)\n",
    "   #     data_new = pd.merge(data, data_iso, on = \"Year\")\n",
    "    #    data_new[\"Total\"] = data_new[\"Total\"] - data_new[\"Total_iso\"]\n",
    "    data_new = data\n",
    "    data_new = data_new[[\"Year\", \"Total\"]]\n",
    "    data_new.rename(columns = {'Total':'carbon_dioxide'}, inplace = True) #change name to match emissions data\n",
    "    data_new.rename(columns = {'Year':'year'}, inplace = True) #change name to match emissions data\n",
    "    data1.rename(columns = {'Year':'year'}, inplace = True) #change name to match emissions data\n",
    "    data_new[\"year\"] = pd.to_numeric(data_new[\"year\"]) \n",
    "    data_new = pd.merge(data_new, data1, on = \"year\")\n",
    "    data_new[\"carbon_dioxide\"] = data_new[\"carbon_dioxide\"] - data_new[\"Total\"]\n",
    "    # since the carbon emissions are on MtCO2, we need to convert to GtC\n",
    "    data_new['carbon_dioxide'] = (data_new['carbon_dioxide'] / 1000) / 3.67 \n",
    "    data_new = data_new[data_new[\"year\"] >= 1980].reset_index() # only keep 1980 and forward\n",
    "    data_new['year'] = data_new['year'] - (min(data_new['year']) - 1) \n",
    "    #feed updated emissions to test_emissions\n",
    "    test_emissions[(\"Test\", \"carbon_dioxide\")] = data_new['carbon_dioxide']\n",
    "        # test_gas_parameters[(\"default\", \"carbon_dioxide\")][6] = list(df1[\"taunum\"])[0]\n",
    "        \n",
    "        # therefore use central estimates for d1-3, q1; and set q2, q3 to return \"correct\" TCR/ECS values\n",
    "    df1 = df[df['idnum'] == m] \n",
    "    d1 = 0.903\n",
    "    d2 = list(df1[\"d2num\"])[0]\n",
    "    d3 = 355\n",
    "    q1 = 0.180\n",
    "    rwf = list(df1[\"rwfnum\"])[0]\n",
    "\n",
    "    TCR = list(df1[\"tcrnum\"])[0]\n",
    "    ECS = TCR / rwf\n",
    "    F_2x = 3.759\n",
    "\n",
    "    v1 = (1-(d1/69.66) * (1-np.exp(-69.66/d1)) )\n",
    "    v2 = (1-(d2/69.66) * (1-np.exp(-69.66/d2)) )\n",
    "    v3 = (1-(d3/69.66) * (1-np.exp(-69.66/d3)) )\n",
    "\n",
    "    q3 = (((TCR/F_2x) - q1*(v1-v2) - (ECS/F_2x)*v2) / (v3-v2))\n",
    "    q2 = (ECS/F_2x - q1 -  q3)\n",
    "\n",
    "    test_thermal_parameters[\"default\",2][1] = q2\n",
    "    test_thermal_parameters[\"default\",3][1] = q3\n",
    "\n",
    "            #test_thermal_parameters = pd.DataFrame([[d1,d2,d3],[q1,q2,q3]],\n",
    "             #                                      index=['d','q'],\n",
    "              #                                     columns=pd.MultiIndex.from_product([['default'],\n",
    "                      #                                                                 [1,2,3]]))\n",
    "    pulse_run = run_FaIR(emissions_in=test_emissions,\n",
    "                         forcing_in=test_forcing,\n",
    "                         gas_parameters=test_gas_parameters,\n",
    "                         thermal_parameters=test_thermal_parameters)\n",
    "    temp_response = pulse_run['T']\n",
    "        #(temp_response.temp_response).apply(lambda x: float(x))   \n",
    "            #temp_response[\"temp_response\"] = float(temp_response[\"temp_response\"]) \n",
    "            #temp_response.to_csv('temp_response/tempresponse' + \"_\" + str(k) + \"_\" + str(iso) + '.csv') \n",
    "    temp_response[\"loop\"] = str(m) + \"_loop_all\" \n",
    "    list_dfs.append(temp_response)"
   ]
  },
  {
   "cell_type": "code",
   "execution_count": null,
   "id": "ef3ec2b0",
   "metadata": {},
   "outputs": [],
   "source": [
    "pd.concat(list_dfs).to_csv(\"fair_temp_response_futssp_emms.csv\")"
   ]
  },
  {
   "cell_type": "code",
   "execution_count": null,
   "id": "0e4710e9",
   "metadata": {},
   "outputs": [],
   "source": []
  }
 ],
 "metadata": {
  "kernelspec": {
   "display_name": "Python 3 (ipykernel)",
   "language": "python",
   "name": "python3"
  },
  "language_info": {
   "codemirror_mode": {
    "name": "ipython",
    "version": 3
   },
   "file_extension": ".py",
   "mimetype": "text/x-python",
   "name": "python",
   "nbconvert_exporter": "python",
   "pygments_lexer": "ipython3",
   "version": "3.9.7"
  }
 },
 "nbformat": 4,
 "nbformat_minor": 5
}
