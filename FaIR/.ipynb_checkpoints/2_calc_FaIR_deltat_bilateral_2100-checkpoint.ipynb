{
 "cells": [
  {
   "cell_type": "markdown",
   "id": "a2b44309",
   "metadata": {},
   "source": [
    "## Script for generating temperature response to country-level emissions preturbation by way of FaIR\n",
    "#### Mustafa Zahid, 05/27/22"
   ]
  },
  {
   "cell_type": "code",
   "execution_count": 1,
   "id": "618847cc",
   "metadata": {},
   "outputs": [],
   "source": [
    "#Importing main packages as well as packages to generate the distributions \n",
    "# from which we will pull the sets of parameters\n",
    "from scipy.stats import lognorm, norm\n",
    "import numpy as np\n",
    "import matplotlib.pyplot as plt\n",
    "import pandas as pd"
   ]
  },
  {
   "cell_type": "code",
   "execution_count": null,
   "id": "6178a333",
   "metadata": {},
   "outputs": [],
   "source": []
  },
  {
   "cell_type": "code",
   "execution_count": null,
   "id": "6261a22d",
   "metadata": {},
   "outputs": [],
   "source": []
  },
  {
   "cell_type": "markdown",
   "id": "6eb9d0dd",
   "metadata": {},
   "source": [
    "### Part I: Generating climatic parameters (following Ashwin et al., 2021)"
   ]
  },
  {
   "cell_type": "code",
   "execution_count": null,
   "id": "7423a676",
   "metadata": {},
   "outputs": [],
   "source": []
  },
  {
   "cell_type": "code",
   "execution_count": 2,
   "id": "55deba01",
   "metadata": {},
   "outputs": [],
   "source": [
    "# Writing the functions to generate distributions for our climate parameters (inputs in FaIR model)\n",
    "def lognorm_from_percentiles(x1, p1, x2, p2):\n",
    "    \"\"\" Return a log-normal distribuion X parametrized by:\n",
    "    \n",
    "            P(X < p1) = x1\n",
    "            P(X < p2) = x2\n",
    "    \"\"\"\n",
    "    x1 = np.log(x1)\n",
    "    x2 = np.log(x2)\n",
    "    p1ppf = norm.ppf(p1)\n",
    "    p2ppf = norm.ppf(p2)\n",
    "    \n",
    "    scale = (x2 - x1) / (p2ppf - p1ppf)\n",
    "    mean = ((x1 * p2ppf) - (x2 * p1ppf)) / (p2ppf - p1ppf)\n",
    "    \n",
    "    return np.random.lognormal(mean, scale, 1000)"
   ]
  },
  {
   "cell_type": "code",
   "execution_count": null,
   "id": "b2e197bc",
   "metadata": {},
   "outputs": [],
   "source": []
  },
  {
   "cell_type": "code",
   "execution_count": 3,
   "id": "49da4516",
   "metadata": {},
   "outputs": [],
   "source": [
    "# Writing the functions to generate distributions for our climate parameters (inputs in FaIR model)\n",
    "def norm_from_percentiles(x1, p1, x2, p2):\n",
    "    \"\"\" Return a normal distribuion X parametrized by:\n",
    "    \n",
    "            P(X < p1) = x1\n",
    "            P(X < p2) = x2\n",
    "    \"\"\"\n",
    "    p1ppf = norm.ppf(p1)\n",
    "    p2ppf = norm.ppf(p2)\n",
    "\n",
    "    location = ((x1 * p2ppf) - (x2 * p1ppf)) / (p2ppf - p1ppf)\n",
    "    scale = (x2 - x1) / (p2ppf - p1ppf)\n",
    "\n",
    "    return np.random.normal(location, scale, 1000)"
   ]
  },
  {
   "cell_type": "code",
   "execution_count": null,
   "id": "6aa607e6",
   "metadata": {},
   "outputs": [],
   "source": []
  },
  {
   "cell_type": "code",
   "execution_count": 4,
   "id": "6b61fc2e",
   "metadata": {},
   "outputs": [],
   "source": [
    "# Now iterating over the parameters to pull from the distributions\n",
    "tcr = []\n",
    "rwf = []\n",
    "tau = []\n",
    "d2 = []\n",
    "ecs = []\n",
    "idi = []\n",
    "for i in range(1,101):\n",
    "        idi.append(i)\n",
    "        tcr.append(np.random.choice(lognorm_from_percentiles(1, 0.17, 2.5, 0.83)))\n",
    "        rwf.append(np.random.choice(norm_from_percentiles(0.45, 0.25, 0.75, 0.75)))\n",
    "        tau.append(np.random.choice(np.random.normal(4.03, 1.79, 1000)))\n",
    "        d2.append(np.random.choice(lognorm_from_percentiles(1.6, 0.05, 8.4, 0.95))) "
   ]
  },
  {
   "cell_type": "code",
   "execution_count": null,
   "id": "9079390e",
   "metadata": {},
   "outputs": [],
   "source": []
  },
  {
   "cell_type": "code",
   "execution_count": 5,
   "id": "d4aaeb35",
   "metadata": {},
   "outputs": [],
   "source": [
    "# Now generate a dataframe and add the pulled parameters together\n",
    "df = pd.DataFrame()\n",
    "df[\"rwfnum\"] = rwf\n",
    "df[\"taunum\"] = tau\n",
    "df[\"tcrnum\"] = tcr\n",
    "df[\"d2num\"] = d2"
   ]
  },
  {
   "cell_type": "code",
   "execution_count": null,
   "id": "908b6de2",
   "metadata": {},
   "outputs": [],
   "source": []
  },
  {
   "cell_type": "code",
   "execution_count": 6,
   "id": "7a514772",
   "metadata": {},
   "outputs": [],
   "source": [
    "# Following Ashwin et al., we restrict our parameters \n",
    "#tau\n",
    "df = df[df[\"taunum\"] > 0] \n",
    "df = df[df[\"taunum\"] < (2*3.95)]\n",
    "\n",
    "#rwf\n",
    "df = df[df[\"rwfnum\"] < 1]\n",
    "df = df[df[\"rwfnum\"] > np.percentile(df[\"rwfnum\"],6)]\n",
    "\n",
    "#ecs\n",
    "df[\"ecs\"] = df[\"tcrnum\"] / df[\"rwfnum\"]"
   ]
  },
  {
   "cell_type": "code",
   "execution_count": null,
   "id": "65f3e07d",
   "metadata": {},
   "outputs": [],
   "source": []
  },
  {
   "cell_type": "code",
   "execution_count": 7,
   "id": "f30594ec",
   "metadata": {},
   "outputs": [],
   "source": [
    "#generate an ID for each of the sets of parameters\n",
    "df[\"idnum\"] = range(len(df))"
   ]
  },
  {
   "cell_type": "code",
   "execution_count": null,
   "id": "367a1346",
   "metadata": {},
   "outputs": [],
   "source": []
  },
  {
   "cell_type": "markdown",
   "id": "34f999a9",
   "metadata": {},
   "source": [
    "### Part II: Running the FaIR model by iterating over emissions preturbation scenarios"
   ]
  },
  {
   "cell_type": "code",
   "execution_count": null,
   "id": "7eca1b0d",
   "metadata": {},
   "outputs": [],
   "source": []
  },
  {
   "cell_type": "code",
   "execution_count": 8,
   "id": "6ac90ffd",
   "metadata": {},
   "outputs": [],
   "source": [
    "# read in the needed libraries \n",
    "import numpy as np\n",
    "import sys\n",
    "import pandas as pd\n",
    "import matplotlib.pyplot as plt\n",
    "import seaborn as sn\n",
    "from fair import *\n",
    "#%matplotlib inline"
   ]
  },
  {
   "cell_type": "code",
   "execution_count": null,
   "id": "a5fc5be6",
   "metadata": {},
   "outputs": [],
   "source": []
  },
  {
   "cell_type": "code",
   "execution_count": 9,
   "id": "1c5961b7",
   "metadata": {},
   "outputs": [],
   "source": [
    "# read the emissions country-year-level data\n",
    "data = pd.read_csv('long_term_emissions_data_new.csv')  \n",
    "data1 = pd.read_csv(\"country_lvl_emms_new.csv\")"
   ]
  },
  {
   "cell_type": "code",
   "execution_count": null,
   "id": "65f7cda1",
   "metadata": {},
   "outputs": [],
   "source": []
  },
  {
   "cell_type": "code",
   "execution_count": 10,
   "id": "b0ebcd36",
   "metadata": {},
   "outputs": [
    {
     "data": {
      "text/html": [
       "<div>\n",
       "<style scoped>\n",
       "    .dataframe tbody tr th:only-of-type {\n",
       "        vertical-align: middle;\n",
       "    }\n",
       "\n",
       "    .dataframe tbody tr th {\n",
       "        vertical-align: top;\n",
       "    }\n",
       "\n",
       "    .dataframe thead th {\n",
       "        text-align: right;\n",
       "    }\n",
       "</style>\n",
       "<table border=\"1\" class=\"dataframe\">\n",
       "  <thead>\n",
       "    <tr style=\"text-align: right;\">\n",
       "      <th></th>\n",
       "      <th>Year</th>\n",
       "      <th>Total</th>\n",
       "    </tr>\n",
       "  </thead>\n",
       "  <tbody>\n",
       "    <tr>\n",
       "      <th>0</th>\n",
       "      <td>1750</td>\n",
       "      <td>9.350528</td>\n",
       "    </tr>\n",
       "    <tr>\n",
       "      <th>1</th>\n",
       "      <td>1751</td>\n",
       "      <td>9.350528</td>\n",
       "    </tr>\n",
       "    <tr>\n",
       "      <th>2</th>\n",
       "      <td>1752</td>\n",
       "      <td>9.354192</td>\n",
       "    </tr>\n",
       "    <tr>\n",
       "      <th>3</th>\n",
       "      <td>1753</td>\n",
       "      <td>9.354192</td>\n",
       "    </tr>\n",
       "    <tr>\n",
       "      <th>4</th>\n",
       "      <td>1754</td>\n",
       "      <td>9.357856</td>\n",
       "    </tr>\n",
       "    <tr>\n",
       "      <th>...</th>\n",
       "      <td>...</td>\n",
       "      <td>...</td>\n",
       "    </tr>\n",
       "    <tr>\n",
       "      <th>346</th>\n",
       "      <td>2096</td>\n",
       "      <td>80755.119641</td>\n",
       "    </tr>\n",
       "    <tr>\n",
       "      <th>347</th>\n",
       "      <td>2097</td>\n",
       "      <td>81247.798011</td>\n",
       "    </tr>\n",
       "    <tr>\n",
       "      <th>348</th>\n",
       "      <td>2098</td>\n",
       "      <td>81740.476381</td>\n",
       "    </tr>\n",
       "    <tr>\n",
       "      <th>349</th>\n",
       "      <td>2099</td>\n",
       "      <td>82233.154751</td>\n",
       "    </tr>\n",
       "    <tr>\n",
       "      <th>350</th>\n",
       "      <td>2100</td>\n",
       "      <td>82725.833121</td>\n",
       "    </tr>\n",
       "  </tbody>\n",
       "</table>\n",
       "<p>351 rows × 2 columns</p>\n",
       "</div>"
      ],
      "text/plain": [
       "     Year         Total\n",
       "0    1750      9.350528\n",
       "1    1751      9.350528\n",
       "2    1752      9.354192\n",
       "3    1753      9.354192\n",
       "4    1754      9.357856\n",
       "..    ...           ...\n",
       "346  2096  80755.119641\n",
       "347  2097  81247.798011\n",
       "348  2098  81740.476381\n",
       "349  2099  82233.154751\n",
       "350  2100  82725.833121\n",
       "\n",
       "[351 rows x 2 columns]"
      ]
     },
     "execution_count": 10,
     "metadata": {},
     "output_type": "execute_result"
    }
   ],
   "source": [
    "data"
   ]
  },
  {
   "cell_type": "code",
   "execution_count": 11,
   "id": "d87e3d18",
   "metadata": {},
   "outputs": [],
   "source": [
    " # The following function returns an empty dataframe in the correct format for use in FaIR.\n",
    "test_emissions = return_empty_emissions(df_to_copy=False, \n",
    "                                        start_year=0, \n",
    "                                        end_year=(350), \n",
    "                                        timestep=1, \n",
    "                                        scen_names=['Test'], \n",
    "                                        gases_in = ['carbon_dioxide'])"
   ]
  },
  {
   "cell_type": "code",
   "execution_count": 12,
   "id": "d93a287d",
   "metadata": {},
   "outputs": [],
   "source": [
    "  # create an empty forcing dataframe compatible with test_emissions:\n",
    "test_forcing = return_empty_forcing(test_emissions)\n",
    "\n",
    "    # Note that the scenario names in the emissions and forcing dataframe must be identical for \n",
    "    #the model to run: FaIR assumes each emissions scenario corresponds directly to a single forcing scenario.\n",
    "    \n",
    "    # Generate a default parameter dataframe:\n",
    "test_gas_parameters = get_gas_parameter_defaults()\n",
    "test_thermal_parameters = get_thermal_parameter_defaults()\n",
    "\n",
    "    # This is what the gas parameter dataframe looks like:\n",
    "test_gas_parameters.head()\n",
    "test_gas_parameters = test_gas_parameters.reindex(test_emissions.columns.levels[1],\n",
    "                                                  axis=1,\n",
    "                                                  level=1)"
   ]
  },
  {
   "cell_type": "code",
   "execution_count": null,
   "id": "34967676",
   "metadata": {},
   "outputs": [],
   "source": [
    "list_of_isos = pd.unique(data1[\"ISO3\"])"
   ]
  },
  {
   "cell_type": "code",
   "execution_count": null,
   "id": "67fe786f",
   "metadata": {},
   "outputs": [],
   "source": [
    "master_array = np.array_split(list_of_isos, 10) "
   ]
  },
  {
   "cell_type": "code",
   "execution_count": null,
   "id": "a32c7034",
   "metadata": {},
   "outputs": [],
   "source": [
    "list_dfs = []\n",
    "for m in range(1,len(df)): \n",
    "    for i in master_array[0]:\n",
    "        # shut off emissions from country i\n",
    "        data_iso = data1[data1[\"ISO3\"] == i]\n",
    "        data_iso = data_iso[[\"Year\", \"Total\"]]\n",
    "        data_iso.rename(columns = {'Total':'Total_iso'}, inplace = True)\n",
    "        data_new = pd.merge(data, data_iso, on = \"Year\")\n",
    "        data_new[\"Total\"] = data_new[\"Total\"] - data_new[\"Total_iso\"]\n",
    "        data_new = data_new[[\"Year\", \"Total\"]]\n",
    "        data_new.rename(columns = {'Total':'carbon_dioxide'}, inplace = True) #change name to match emissions data\n",
    "        data_new.rename(columns = {'Year':'year'}, inplace = True) #change name to match emissions data\n",
    "        data_new[\"year\"] = pd.to_numeric(data_new[\"year\"]) \n",
    "        # since the carbon emissions are on MtCO2, we need to convert to GtC\n",
    "        data_new['carbon_dioxide'] = (data_new['carbon_dioxide'] / 1000) / 3.67 \n",
    "        data_new = data_new[data_new[\"year\"] >= 1980].reset_index() # only keep 1980 and forward\n",
    "        data_new['year'] = data_new['year'] - (min(data_new['year']) - 1) \n",
    "        #feed updated emissions to test_emissions\n",
    "        test_emissions[(\"Test\", \"carbon_dioxide\")] = data_new['carbon_dioxide']\n",
    "        # test_gas_parameters[(\"default\", \"carbon_dioxide\")][6] = list(df1[\"taunum\"])[0]\n",
    "        \n",
    "        # therefore use central estimates for d1-3, q1; and set q2, q3 to return \"correct\" TCR/ECS values\n",
    "        df1 = df[df['idnum'] == m] \n",
    "        d1 = 0.903\n",
    "        d2 = list(df1[\"d2num\"])[0]\n",
    "        d3 = 355\n",
    "        q1 = 0.180\n",
    "        rwf = list(df1[\"rwfnum\"])[0]\n",
    "\n",
    "        TCR = list(df1[\"tcrnum\"])[0]\n",
    "        ECS = TCR / rwf\n",
    "        F_2x = 3.759\n",
    "\n",
    "        v1 = (1-(d1/69.66) * (1-np.exp(-69.66/d1)) )\n",
    "        v2 = (1-(d2/69.66) * (1-np.exp(-69.66/d2)) )\n",
    "        v3 = (1-(d3/69.66) * (1-np.exp(-69.66/d3)) )\n",
    "\n",
    "        q3 = (((TCR/F_2x) - q1*(v1-v2) - (ECS/F_2x)*v2) / (v3-v2))\n",
    "        q2 = (ECS/F_2x - q1 -  q3)\n",
    "\n",
    "        test_thermal_parameters[\"default\",2][1] = q2\n",
    "        test_thermal_parameters[\"default\",3][1] = q3\n",
    "\n",
    "            #test_thermal_parameters = pd.DataFrame([[d1,d2,d3],[q1,q2,q3]],\n",
    "             #                                      index=['d','q'],\n",
    "              #                                     columns=pd.MultiIndex.from_product([['default'],\n",
    "                      #                                                                 [1,2,3]]))\n",
    "        pulse_run = run_FaIR(emissions_in=test_emissions,\n",
    "                             forcing_in=test_forcing,\n",
    "                             gas_parameters=test_gas_parameters,\n",
    "                             thermal_parameters=test_thermal_parameters)\n",
    "        temp_response = pulse_run['T']\n",
    "        #(temp_response.temp_response).apply(lambda x: float(x))   \n",
    "            #temp_response[\"temp_response\"] = float(temp_response[\"temp_response\"]) \n",
    "            #temp_response.to_csv('temp_response/tempresponse' + \"_\" + str(k) + \"_\" + str(iso) + '.csv') \n",
    "        temp_response[\"loop\"] = str(m) + \"_loop_\" + i   \n",
    "        list_dfs.append(temp_response)"
   ]
  },
  {
   "cell_type": "code",
   "execution_count": null,
   "id": "ee330793",
   "metadata": {},
   "outputs": [],
   "source": [
    "pd.concat(list_dfs).to_csv(\"fair_temp_resp_k90_hist_fut0.csv\")"
   ]
  },
  {
   "cell_type": "code",
   "execution_count": 13,
   "id": "ac839292",
   "metadata": {},
   "outputs": [
    {
     "name": "stdout",
     "output_type": "stream",
     "text": [
      "Integrating 1 scenarios, 1 gas cycle parameter sets, 1 thermal response parameter sets, over ['carbon_dioxide'] forcing agents, between 0 and 350...\n"
     ]
    },
    {
     "name": "stderr",
     "output_type": "stream",
     "text": [
      "100%|████████████████████████████████| 350/350 [00:00<00:00, 6385.11 timestep/s]"
     ]
    },
    {
     "name": "stdout",
     "output_type": "stream",
     "text": [
      "Integrating 1 scenarios, 1 gas cycle parameter sets, 1 thermal response parameter sets, over ['carbon_dioxide'] forcing agents, between 0 and 350...\n"
     ]
    },
    {
     "name": "stderr",
     "output_type": "stream",
     "text": [
      "\n",
      "100%|████████████████████████████████| 350/350 [00:00<00:00, 6960.44 timestep/s]"
     ]
    },
    {
     "name": "stdout",
     "output_type": "stream",
     "text": [
      "Integrating 1 scenarios, 1 gas cycle parameter sets, 1 thermal response parameter sets, over ['carbon_dioxide'] forcing agents, between 0 and 350...\n"
     ]
    },
    {
     "name": "stderr",
     "output_type": "stream",
     "text": [
      "\n",
      "100%|████████████████████████████████| 350/350 [00:00<00:00, 6768.66 timestep/s]"
     ]
    },
    {
     "name": "stdout",
     "output_type": "stream",
     "text": [
      "Integrating 1 scenarios, 1 gas cycle parameter sets, 1 thermal response parameter sets, over ['carbon_dioxide'] forcing agents, between 0 and 350...\n"
     ]
    },
    {
     "name": "stderr",
     "output_type": "stream",
     "text": [
      "\n",
      "100%|████████████████████████████████| 350/350 [00:00<00:00, 6872.14 timestep/s]"
     ]
    },
    {
     "name": "stdout",
     "output_type": "stream",
     "text": [
      "Integrating 1 scenarios, 1 gas cycle parameter sets, 1 thermal response parameter sets, over ['carbon_dioxide'] forcing agents, between 0 and 350...\n"
     ]
    },
    {
     "name": "stderr",
     "output_type": "stream",
     "text": [
      "\n",
      "100%|████████████████████████████████| 350/350 [00:00<00:00, 6749.98 timestep/s]"
     ]
    },
    {
     "name": "stdout",
     "output_type": "stream",
     "text": [
      "Integrating 1 scenarios, 1 gas cycle parameter sets, 1 thermal response parameter sets, over ['carbon_dioxide'] forcing agents, between 0 and 350...\n"
     ]
    },
    {
     "name": "stderr",
     "output_type": "stream",
     "text": [
      "\n",
      "100%|████████████████████████████████| 350/350 [00:00<00:00, 6662.13 timestep/s]"
     ]
    },
    {
     "name": "stdout",
     "output_type": "stream",
     "text": [
      "Integrating 1 scenarios, 1 gas cycle parameter sets, 1 thermal response parameter sets, over ['carbon_dioxide'] forcing agents, between 0 and 350...\n"
     ]
    },
    {
     "name": "stderr",
     "output_type": "stream",
     "text": [
      "\n",
      "100%|████████████████████████████████| 350/350 [00:00<00:00, 6893.57 timestep/s]"
     ]
    },
    {
     "name": "stdout",
     "output_type": "stream",
     "text": [
      "Integrating 1 scenarios, 1 gas cycle parameter sets, 1 thermal response parameter sets, over ['carbon_dioxide'] forcing agents, between 0 and 350...\n"
     ]
    },
    {
     "name": "stderr",
     "output_type": "stream",
     "text": [
      "\n",
      "100%|████████████████████████████████| 350/350 [00:00<00:00, 6697.42 timestep/s]"
     ]
    },
    {
     "name": "stdout",
     "output_type": "stream",
     "text": [
      "Integrating 1 scenarios, 1 gas cycle parameter sets, 1 thermal response parameter sets, over ['carbon_dioxide'] forcing agents, between 0 and 350...\n"
     ]
    },
    {
     "name": "stderr",
     "output_type": "stream",
     "text": [
      "\n",
      "100%|████████████████████████████████| 350/350 [00:00<00:00, 6714.02 timestep/s]"
     ]
    },
    {
     "name": "stdout",
     "output_type": "stream",
     "text": [
      "Integrating 1 scenarios, 1 gas cycle parameter sets, 1 thermal response parameter sets, over ['carbon_dioxide'] forcing agents, between 0 and 350...\n"
     ]
    },
    {
     "name": "stderr",
     "output_type": "stream",
     "text": [
      "\n",
      "100%|████████████████████████████████| 350/350 [00:00<00:00, 6656.15 timestep/s]"
     ]
    },
    {
     "name": "stdout",
     "output_type": "stream",
     "text": [
      "Integrating 1 scenarios, 1 gas cycle parameter sets, 1 thermal response parameter sets, over ['carbon_dioxide'] forcing agents, between 0 and 350...\n"
     ]
    },
    {
     "name": "stderr",
     "output_type": "stream",
     "text": [
      "\n",
      "100%|████████████████████████████████| 350/350 [00:00<00:00, 6803.41 timestep/s]"
     ]
    },
    {
     "name": "stdout",
     "output_type": "stream",
     "text": [
      "Integrating 1 scenarios, 1 gas cycle parameter sets, 1 thermal response parameter sets, over ['carbon_dioxide'] forcing agents, between 0 and 350...\n"
     ]
    },
    {
     "name": "stderr",
     "output_type": "stream",
     "text": [
      "\n",
      "100%|████████████████████████████████| 350/350 [00:00<00:00, 7003.35 timestep/s]"
     ]
    },
    {
     "name": "stdout",
     "output_type": "stream",
     "text": [
      "Integrating 1 scenarios, 1 gas cycle parameter sets, 1 thermal response parameter sets, over ['carbon_dioxide'] forcing agents, between 0 and 350...\n"
     ]
    },
    {
     "name": "stderr",
     "output_type": "stream",
     "text": [
      "\n",
      "100%|████████████████████████████████| 350/350 [00:00<00:00, 6867.45 timestep/s]"
     ]
    },
    {
     "name": "stdout",
     "output_type": "stream",
     "text": [
      "Integrating 1 scenarios, 1 gas cycle parameter sets, 1 thermal response parameter sets, over ['carbon_dioxide'] forcing agents, between 0 and 350...\n"
     ]
    },
    {
     "name": "stderr",
     "output_type": "stream",
     "text": [
      "\n",
      "100%|████████████████████████████████| 350/350 [00:00<00:00, 6875.17 timestep/s]"
     ]
    },
    {
     "name": "stdout",
     "output_type": "stream",
     "text": [
      "Integrating 1 scenarios, 1 gas cycle parameter sets, 1 thermal response parameter sets, over ['carbon_dioxide'] forcing agents, between 0 and 350...\n"
     ]
    },
    {
     "name": "stderr",
     "output_type": "stream",
     "text": [
      "\n",
      "100%|████████████████████████████████| 350/350 [00:00<00:00, 6885.45 timestep/s]"
     ]
    },
    {
     "name": "stdout",
     "output_type": "stream",
     "text": [
      "Integrating 1 scenarios, 1 gas cycle parameter sets, 1 thermal response parameter sets, over ['carbon_dioxide'] forcing agents, between 0 and 350...\n"
     ]
    },
    {
     "name": "stderr",
     "output_type": "stream",
     "text": [
      "\n",
      "100%|████████████████████████████████| 350/350 [00:00<00:00, 6945.95 timestep/s]"
     ]
    },
    {
     "name": "stdout",
     "output_type": "stream",
     "text": [
      "Integrating 1 scenarios, 1 gas cycle parameter sets, 1 thermal response parameter sets, over ['carbon_dioxide'] forcing agents, between 0 and 350...\n"
     ]
    },
    {
     "name": "stderr",
     "output_type": "stream",
     "text": [
      "\n",
      "100%|████████████████████████████████| 350/350 [00:00<00:00, 6797.27 timestep/s]"
     ]
    },
    {
     "name": "stdout",
     "output_type": "stream",
     "text": [
      "Integrating 1 scenarios, 1 gas cycle parameter sets, 1 thermal response parameter sets, over ['carbon_dioxide'] forcing agents, between 0 and 350...\n"
     ]
    },
    {
     "name": "stderr",
     "output_type": "stream",
     "text": [
      "\n",
      "100%|████████████████████████████████| 350/350 [00:00<00:00, 6931.13 timestep/s]"
     ]
    },
    {
     "name": "stdout",
     "output_type": "stream",
     "text": [
      "Integrating 1 scenarios, 1 gas cycle parameter sets, 1 thermal response parameter sets, over ['carbon_dioxide'] forcing agents, between 0 and 350...\n"
     ]
    },
    {
     "name": "stderr",
     "output_type": "stream",
     "text": [
      "\n",
      "100%|████████████████████████████████| 350/350 [00:00<00:00, 6909.37 timestep/s]"
     ]
    },
    {
     "name": "stdout",
     "output_type": "stream",
     "text": [
      "Integrating 1 scenarios, 1 gas cycle parameter sets, 1 thermal response parameter sets, over ['carbon_dioxide'] forcing agents, between 0 and 350...\n"
     ]
    },
    {
     "name": "stderr",
     "output_type": "stream",
     "text": [
      "\n",
      "100%|████████████████████████████████| 350/350 [00:00<00:00, 6774.68 timestep/s]"
     ]
    },
    {
     "name": "stdout",
     "output_type": "stream",
     "text": [
      "Integrating 1 scenarios, 1 gas cycle parameter sets, 1 thermal response parameter sets, over ['carbon_dioxide'] forcing agents, between 0 and 350...\n"
     ]
    },
    {
     "name": "stderr",
     "output_type": "stream",
     "text": [
      "\n",
      "100%|████████████████████████████████| 350/350 [00:00<00:00, 6813.33 timestep/s]"
     ]
    },
    {
     "name": "stdout",
     "output_type": "stream",
     "text": [
      "Integrating 1 scenarios, 1 gas cycle parameter sets, 1 thermal response parameter sets, over ['carbon_dioxide'] forcing agents, between 0 and 350...\n"
     ]
    },
    {
     "name": "stderr",
     "output_type": "stream",
     "text": [
      "\n",
      "100%|████████████████████████████████| 350/350 [00:00<00:00, 6942.27 timestep/s]"
     ]
    },
    {
     "name": "stdout",
     "output_type": "stream",
     "text": [
      "Integrating 1 scenarios, 1 gas cycle parameter sets, 1 thermal response parameter sets, over ['carbon_dioxide'] forcing agents, between 0 and 350...\n"
     ]
    },
    {
     "name": "stderr",
     "output_type": "stream",
     "text": [
      "\n",
      "100%|████████████████████████████████| 350/350 [00:00<00:00, 6871.50 timestep/s]"
     ]
    },
    {
     "name": "stdout",
     "output_type": "stream",
     "text": [
      "Integrating 1 scenarios, 1 gas cycle parameter sets, 1 thermal response parameter sets, over ['carbon_dioxide'] forcing agents, between 0 and 350...\n"
     ]
    },
    {
     "name": "stderr",
     "output_type": "stream",
     "text": [
      "\n",
      "100%|████████████████████████████████| 350/350 [00:00<00:00, 6931.95 timestep/s]"
     ]
    },
    {
     "name": "stdout",
     "output_type": "stream",
     "text": [
      "Integrating 1 scenarios, 1 gas cycle parameter sets, 1 thermal response parameter sets, over ['carbon_dioxide'] forcing agents, between 0 and 350...\n"
     ]
    },
    {
     "name": "stderr",
     "output_type": "stream",
     "text": [
      "\n",
      "100%|████████████████████████████████| 350/350 [00:00<00:00, 6945.13 timestep/s]"
     ]
    },
    {
     "name": "stdout",
     "output_type": "stream",
     "text": [
      "Integrating 1 scenarios, 1 gas cycle parameter sets, 1 thermal response parameter sets, over ['carbon_dioxide'] forcing agents, between 0 and 350...\n"
     ]
    },
    {
     "name": "stderr",
     "output_type": "stream",
     "text": [
      "\n",
      "100%|████████████████████████████████| 350/350 [00:00<00:00, 7016.70 timestep/s]"
     ]
    },
    {
     "name": "stdout",
     "output_type": "stream",
     "text": [
      "Integrating 1 scenarios, 1 gas cycle parameter sets, 1 thermal response parameter sets, over ['carbon_dioxide'] forcing agents, between 0 and 350...\n"
     ]
    },
    {
     "name": "stderr",
     "output_type": "stream",
     "text": [
      "\n",
      "100%|████████████████████████████████| 350/350 [00:00<00:00, 6914.22 timestep/s]"
     ]
    },
    {
     "name": "stdout",
     "output_type": "stream",
     "text": [
      "Integrating 1 scenarios, 1 gas cycle parameter sets, 1 thermal response parameter sets, over ['carbon_dioxide'] forcing agents, between 0 and 350...\n"
     ]
    },
    {
     "name": "stderr",
     "output_type": "stream",
     "text": [
      "\n",
      "100%|████████████████████████████████| 350/350 [00:00<00:00, 7047.05 timestep/s]"
     ]
    },
    {
     "name": "stdout",
     "output_type": "stream",
     "text": [
      "Integrating 1 scenarios, 1 gas cycle parameter sets, 1 thermal response parameter sets, over ['carbon_dioxide'] forcing agents, between 0 and 350...\n"
     ]
    },
    {
     "name": "stderr",
     "output_type": "stream",
     "text": [
      "\n",
      "100%|████████████████████████████████| 350/350 [00:00<00:00, 6988.58 timestep/s]"
     ]
    },
    {
     "name": "stdout",
     "output_type": "stream",
     "text": [
      "Integrating 1 scenarios, 1 gas cycle parameter sets, 1 thermal response parameter sets, over ['carbon_dioxide'] forcing agents, between 0 and 350...\n"
     ]
    },
    {
     "name": "stderr",
     "output_type": "stream",
     "text": [
      "\n",
      "100%|████████████████████████████████| 350/350 [00:00<00:00, 7066.39 timestep/s]"
     ]
    },
    {
     "name": "stdout",
     "output_type": "stream",
     "text": [
      "Integrating 1 scenarios, 1 gas cycle parameter sets, 1 thermal response parameter sets, over ['carbon_dioxide'] forcing agents, between 0 and 350...\n"
     ]
    },
    {
     "name": "stderr",
     "output_type": "stream",
     "text": [
      "\n",
      "100%|████████████████████████████████| 350/350 [00:00<00:00, 7031.09 timestep/s]"
     ]
    },
    {
     "name": "stdout",
     "output_type": "stream",
     "text": [
      "Integrating 1 scenarios, 1 gas cycle parameter sets, 1 thermal response parameter sets, over ['carbon_dioxide'] forcing agents, between 0 and 350...\n"
     ]
    },
    {
     "name": "stderr",
     "output_type": "stream",
     "text": [
      "\n",
      "100%|████████████████████████████████| 350/350 [00:00<00:00, 6802.03 timestep/s]"
     ]
    },
    {
     "name": "stdout",
     "output_type": "stream",
     "text": [
      "Integrating 1 scenarios, 1 gas cycle parameter sets, 1 thermal response parameter sets, over ['carbon_dioxide'] forcing agents, between 0 and 350...\n"
     ]
    },
    {
     "name": "stderr",
     "output_type": "stream",
     "text": [
      "\n",
      "100%|████████████████████████████████| 350/350 [00:00<00:00, 7069.82 timestep/s]"
     ]
    },
    {
     "name": "stdout",
     "output_type": "stream",
     "text": [
      "Integrating 1 scenarios, 1 gas cycle parameter sets, 1 thermal response parameter sets, over ['carbon_dioxide'] forcing agents, between 0 and 350...\n"
     ]
    },
    {
     "name": "stderr",
     "output_type": "stream",
     "text": [
      "\n",
      "100%|████████████████████████████████| 350/350 [00:00<00:00, 6906.77 timestep/s]"
     ]
    },
    {
     "name": "stdout",
     "output_type": "stream",
     "text": [
      "Integrating 1 scenarios, 1 gas cycle parameter sets, 1 thermal response parameter sets, over ['carbon_dioxide'] forcing agents, between 0 and 350...\n"
     ]
    },
    {
     "name": "stderr",
     "output_type": "stream",
     "text": [
      "\n",
      "100%|████████████████████████████████| 350/350 [00:00<00:00, 6937.29 timestep/s]"
     ]
    },
    {
     "name": "stdout",
     "output_type": "stream",
     "text": [
      "Integrating 1 scenarios, 1 gas cycle parameter sets, 1 thermal response parameter sets, over ['carbon_dioxide'] forcing agents, between 0 and 350...\n"
     ]
    },
    {
     "name": "stderr",
     "output_type": "stream",
     "text": [
      "\n",
      "100%|████████████████████████████████| 350/350 [00:00<00:00, 6995.10 timestep/s]"
     ]
    },
    {
     "name": "stdout",
     "output_type": "stream",
     "text": [
      "Integrating 1 scenarios, 1 gas cycle parameter sets, 1 thermal response parameter sets, over ['carbon_dioxide'] forcing agents, between 0 and 350...\n"
     ]
    },
    {
     "name": "stderr",
     "output_type": "stream",
     "text": [
      "\n",
      "100%|████████████████████████████████| 350/350 [00:00<00:00, 6954.94 timestep/s]"
     ]
    },
    {
     "name": "stdout",
     "output_type": "stream",
     "text": [
      "Integrating 1 scenarios, 1 gas cycle parameter sets, 1 thermal response parameter sets, over ['carbon_dioxide'] forcing agents, between 0 and 350...\n"
     ]
    },
    {
     "name": "stderr",
     "output_type": "stream",
     "text": [
      "\n",
      "100%|████████████████████████████████| 350/350 [00:00<00:00, 6983.66 timestep/s]"
     ]
    },
    {
     "name": "stdout",
     "output_type": "stream",
     "text": [
      "Integrating 1 scenarios, 1 gas cycle parameter sets, 1 thermal response parameter sets, over ['carbon_dioxide'] forcing agents, between 0 and 350...\n"
     ]
    },
    {
     "name": "stderr",
     "output_type": "stream",
     "text": [
      "\n",
      "100%|████████████████████████████████| 350/350 [00:00<00:00, 6964.51 timestep/s]"
     ]
    },
    {
     "name": "stdout",
     "output_type": "stream",
     "text": [
      "Integrating 1 scenarios, 1 gas cycle parameter sets, 1 thermal response parameter sets, over ['carbon_dioxide'] forcing agents, between 0 and 350...\n"
     ]
    },
    {
     "name": "stderr",
     "output_type": "stream",
     "text": [
      "\n",
      "100%|████████████████████████████████| 350/350 [00:00<00:00, 6979.51 timestep/s]"
     ]
    },
    {
     "name": "stdout",
     "output_type": "stream",
     "text": [
      "Integrating 1 scenarios, 1 gas cycle parameter sets, 1 thermal response parameter sets, over ['carbon_dioxide'] forcing agents, between 0 and 350...\n"
     ]
    },
    {
     "name": "stderr",
     "output_type": "stream",
     "text": [
      "\n",
      "100%|████████████████████████████████| 350/350 [00:00<00:00, 7043.97 timestep/s]"
     ]
    },
    {
     "name": "stdout",
     "output_type": "stream",
     "text": [
      "Integrating 1 scenarios, 1 gas cycle parameter sets, 1 thermal response parameter sets, over ['carbon_dioxide'] forcing agents, between 0 and 350...\n"
     ]
    },
    {
     "name": "stderr",
     "output_type": "stream",
     "text": [
      "\n",
      "100%|████████████████████████████████| 350/350 [00:00<00:00, 6972.38 timestep/s]"
     ]
    },
    {
     "name": "stdout",
     "output_type": "stream",
     "text": [
      "Integrating 1 scenarios, 1 gas cycle parameter sets, 1 thermal response parameter sets, over ['carbon_dioxide'] forcing agents, between 0 and 350...\n"
     ]
    },
    {
     "name": "stderr",
     "output_type": "stream",
     "text": [
      "\n",
      "100%|████████████████████████████████| 350/350 [00:00<00:00, 6976.55 timestep/s]"
     ]
    },
    {
     "name": "stdout",
     "output_type": "stream",
     "text": [
      "Integrating 1 scenarios, 1 gas cycle parameter sets, 1 thermal response parameter sets, over ['carbon_dioxide'] forcing agents, between 0 and 350...\n"
     ]
    },
    {
     "name": "stderr",
     "output_type": "stream",
     "text": [
      "\n",
      "100%|████████████████████████████████| 350/350 [00:00<00:00, 6961.04 timestep/s]"
     ]
    },
    {
     "name": "stdout",
     "output_type": "stream",
     "text": [
      "Integrating 1 scenarios, 1 gas cycle parameter sets, 1 thermal response parameter sets, over ['carbon_dioxide'] forcing agents, between 0 and 350...\n"
     ]
    },
    {
     "name": "stderr",
     "output_type": "stream",
     "text": [
      "\n",
      "100%|████████████████████████████████| 350/350 [00:00<00:00, 7020.36 timestep/s]"
     ]
    },
    {
     "name": "stdout",
     "output_type": "stream",
     "text": [
      "Integrating 1 scenarios, 1 gas cycle parameter sets, 1 thermal response parameter sets, over ['carbon_dioxide'] forcing agents, between 0 and 350...\n"
     ]
    },
    {
     "name": "stderr",
     "output_type": "stream",
     "text": [
      "\n",
      "100%|████████████████████████████████| 350/350 [00:00<00:00, 6956.32 timestep/s]"
     ]
    },
    {
     "name": "stdout",
     "output_type": "stream",
     "text": [
      "Integrating 1 scenarios, 1 gas cycle parameter sets, 1 thermal response parameter sets, over ['carbon_dioxide'] forcing agents, between 0 and 350...\n"
     ]
    },
    {
     "name": "stderr",
     "output_type": "stream",
     "text": [
      "\n",
      "100%|████████████████████████████████| 350/350 [00:00<00:00, 6887.75 timestep/s]"
     ]
    },
    {
     "name": "stdout",
     "output_type": "stream",
     "text": [
      "Integrating 1 scenarios, 1 gas cycle parameter sets, 1 thermal response parameter sets, over ['carbon_dioxide'] forcing agents, between 0 and 350...\n"
     ]
    },
    {
     "name": "stderr",
     "output_type": "stream",
     "text": [
      "\n",
      "100%|████████████████████████████████| 350/350 [00:00<00:00, 7006.29 timestep/s]"
     ]
    },
    {
     "name": "stdout",
     "output_type": "stream",
     "text": [
      "Integrating 1 scenarios, 1 gas cycle parameter sets, 1 thermal response parameter sets, over ['carbon_dioxide'] forcing agents, between 0 and 350...\n"
     ]
    },
    {
     "name": "stderr",
     "output_type": "stream",
     "text": [
      "\n",
      "100%|████████████████████████████████| 350/350 [00:00<00:00, 6872.98 timestep/s]"
     ]
    },
    {
     "name": "stdout",
     "output_type": "stream",
     "text": [
      "Integrating 1 scenarios, 1 gas cycle parameter sets, 1 thermal response parameter sets, over ['carbon_dioxide'] forcing agents, between 0 and 350...\n"
     ]
    },
    {
     "name": "stderr",
     "output_type": "stream",
     "text": [
      "\n",
      "100%|████████████████████████████████| 350/350 [00:00<00:00, 6906.90 timestep/s]"
     ]
    },
    {
     "name": "stdout",
     "output_type": "stream",
     "text": [
      "Integrating 1 scenarios, 1 gas cycle parameter sets, 1 thermal response parameter sets, over ['carbon_dioxide'] forcing agents, between 0 and 350...\n"
     ]
    },
    {
     "name": "stderr",
     "output_type": "stream",
     "text": [
      "\n",
      "100%|████████████████████████████████| 350/350 [00:00<00:00, 6976.95 timestep/s]"
     ]
    },
    {
     "name": "stdout",
     "output_type": "stream",
     "text": [
      "Integrating 1 scenarios, 1 gas cycle parameter sets, 1 thermal response parameter sets, over ['carbon_dioxide'] forcing agents, between 0 and 350...\n"
     ]
    },
    {
     "name": "stderr",
     "output_type": "stream",
     "text": [
      "\n",
      "100%|████████████████████████████████| 350/350 [00:00<00:00, 7080.74 timestep/s]"
     ]
    },
    {
     "name": "stdout",
     "output_type": "stream",
     "text": [
      "Integrating 1 scenarios, 1 gas cycle parameter sets, 1 thermal response parameter sets, over ['carbon_dioxide'] forcing agents, between 0 and 350...\n"
     ]
    },
    {
     "name": "stderr",
     "output_type": "stream",
     "text": [
      "\n",
      "100%|████████████████████████████████| 350/350 [00:00<00:00, 6959.78 timestep/s]"
     ]
    },
    {
     "name": "stdout",
     "output_type": "stream",
     "text": [
      "Integrating 1 scenarios, 1 gas cycle parameter sets, 1 thermal response parameter sets, over ['carbon_dioxide'] forcing agents, between 0 and 350...\n"
     ]
    },
    {
     "name": "stderr",
     "output_type": "stream",
     "text": [
      "\n",
      "100%|████████████████████████████████| 350/350 [00:00<00:00, 6944.97 timestep/s]"
     ]
    },
    {
     "name": "stdout",
     "output_type": "stream",
     "text": [
      "Integrating 1 scenarios, 1 gas cycle parameter sets, 1 thermal response parameter sets, over ['carbon_dioxide'] forcing agents, between 0 and 350...\n"
     ]
    },
    {
     "name": "stderr",
     "output_type": "stream",
     "text": [
      "\n",
      "100%|████████████████████████████████| 350/350 [00:00<00:00, 6922.60 timestep/s]"
     ]
    },
    {
     "name": "stdout",
     "output_type": "stream",
     "text": [
      "Integrating 1 scenarios, 1 gas cycle parameter sets, 1 thermal response parameter sets, over ['carbon_dioxide'] forcing agents, between 0 and 350...\n"
     ]
    },
    {
     "name": "stderr",
     "output_type": "stream",
     "text": [
      "\n",
      "100%|████████████████████████████████| 350/350 [00:00<00:00, 6985.75 timestep/s]"
     ]
    },
    {
     "name": "stdout",
     "output_type": "stream",
     "text": [
      "Integrating 1 scenarios, 1 gas cycle parameter sets, 1 thermal response parameter sets, over ['carbon_dioxide'] forcing agents, between 0 and 350...\n"
     ]
    },
    {
     "name": "stderr",
     "output_type": "stream",
     "text": [
      "\n",
      "100%|████████████████████████████████| 350/350 [00:00<00:00, 6996.77 timestep/s]"
     ]
    },
    {
     "name": "stdout",
     "output_type": "stream",
     "text": [
      "Integrating 1 scenarios, 1 gas cycle parameter sets, 1 thermal response parameter sets, over ['carbon_dioxide'] forcing agents, between 0 and 350...\n"
     ]
    },
    {
     "name": "stderr",
     "output_type": "stream",
     "text": [
      "\n",
      "100%|████████████████████████████████| 350/350 [00:00<00:00, 6940.86 timestep/s]"
     ]
    },
    {
     "name": "stdout",
     "output_type": "stream",
     "text": [
      "Integrating 1 scenarios, 1 gas cycle parameter sets, 1 thermal response parameter sets, over ['carbon_dioxide'] forcing agents, between 0 and 350...\n"
     ]
    },
    {
     "name": "stderr",
     "output_type": "stream",
     "text": [
      "\n",
      "100%|████████████████████████████████| 350/350 [00:00<00:00, 7009.40 timestep/s]"
     ]
    },
    {
     "name": "stdout",
     "output_type": "stream",
     "text": [
      "Integrating 1 scenarios, 1 gas cycle parameter sets, 1 thermal response parameter sets, over ['carbon_dioxide'] forcing agents, between 0 and 350...\n"
     ]
    },
    {
     "name": "stderr",
     "output_type": "stream",
     "text": [
      "\n",
      "100%|████████████████████████████████| 350/350 [00:00<00:00, 6890.85 timestep/s]"
     ]
    },
    {
     "name": "stdout",
     "output_type": "stream",
     "text": [
      "Integrating 1 scenarios, 1 gas cycle parameter sets, 1 thermal response parameter sets, over ['carbon_dioxide'] forcing agents, between 0 and 350...\n"
     ]
    },
    {
     "name": "stderr",
     "output_type": "stream",
     "text": [
      "\n",
      "100%|████████████████████████████████| 350/350 [00:00<00:00, 6991.61 timestep/s]"
     ]
    },
    {
     "name": "stdout",
     "output_type": "stream",
     "text": [
      "Integrating 1 scenarios, 1 gas cycle parameter sets, 1 thermal response parameter sets, over ['carbon_dioxide'] forcing agents, between 0 and 350...\n"
     ]
    },
    {
     "name": "stderr",
     "output_type": "stream",
     "text": [
      "\n",
      "100%|████████████████████████████████| 350/350 [00:00<00:00, 6822.80 timestep/s]"
     ]
    },
    {
     "name": "stdout",
     "output_type": "stream",
     "text": [
      "Integrating 1 scenarios, 1 gas cycle parameter sets, 1 thermal response parameter sets, over ['carbon_dioxide'] forcing agents, between 0 and 350...\n"
     ]
    },
    {
     "name": "stderr",
     "output_type": "stream",
     "text": [
      "\n",
      "100%|████████████████████████████████| 350/350 [00:00<00:00, 7038.60 timestep/s]"
     ]
    },
    {
     "name": "stdout",
     "output_type": "stream",
     "text": [
      "Integrating 1 scenarios, 1 gas cycle parameter sets, 1 thermal response parameter sets, over ['carbon_dioxide'] forcing agents, between 0 and 350...\n"
     ]
    },
    {
     "name": "stderr",
     "output_type": "stream",
     "text": [
      "\n",
      "100%|████████████████████████████████| 350/350 [00:00<00:00, 6985.75 timestep/s]"
     ]
    },
    {
     "name": "stdout",
     "output_type": "stream",
     "text": [
      "Integrating 1 scenarios, 1 gas cycle parameter sets, 1 thermal response parameter sets, over ['carbon_dioxide'] forcing agents, between 0 and 350...\n"
     ]
    },
    {
     "name": "stderr",
     "output_type": "stream",
     "text": [
      "\n",
      "100%|████████████████████████████████| 350/350 [00:00<00:00, 6920.45 timestep/s]"
     ]
    },
    {
     "name": "stdout",
     "output_type": "stream",
     "text": [
      "Integrating 1 scenarios, 1 gas cycle parameter sets, 1 thermal response parameter sets, over ['carbon_dioxide'] forcing agents, between 0 and 350...\n"
     ]
    },
    {
     "name": "stderr",
     "output_type": "stream",
     "text": [
      "\n",
      "100%|████████████████████████████████| 350/350 [00:00<00:00, 7028.97 timestep/s]"
     ]
    },
    {
     "name": "stdout",
     "output_type": "stream",
     "text": [
      "Integrating 1 scenarios, 1 gas cycle parameter sets, 1 thermal response parameter sets, over ['carbon_dioxide'] forcing agents, between 0 and 350...\n"
     ]
    },
    {
     "name": "stderr",
     "output_type": "stream",
     "text": [
      "\n",
      "100%|████████████████████████████████| 350/350 [00:00<00:00, 7019.49 timestep/s]"
     ]
    },
    {
     "name": "stdout",
     "output_type": "stream",
     "text": [
      "Integrating 1 scenarios, 1 gas cycle parameter sets, 1 thermal response parameter sets, over ['carbon_dioxide'] forcing agents, between 0 and 350...\n"
     ]
    },
    {
     "name": "stderr",
     "output_type": "stream",
     "text": [
      "\n",
      "100%|████████████████████████████████| 350/350 [00:00<00:00, 6905.80 timestep/s]"
     ]
    },
    {
     "name": "stdout",
     "output_type": "stream",
     "text": [
      "Integrating 1 scenarios, 1 gas cycle parameter sets, 1 thermal response parameter sets, over ['carbon_dioxide'] forcing agents, between 0 and 350...\n"
     ]
    },
    {
     "name": "stderr",
     "output_type": "stream",
     "text": [
      "\n",
      "100%|████████████████████████████████| 350/350 [00:00<00:00, 6858.98 timestep/s]"
     ]
    },
    {
     "name": "stdout",
     "output_type": "stream",
     "text": [
      "Integrating 1 scenarios, 1 gas cycle parameter sets, 1 thermal response parameter sets, over ['carbon_dioxide'] forcing agents, between 0 and 350...\n"
     ]
    },
    {
     "name": "stderr",
     "output_type": "stream",
     "text": [
      "\n",
      "100%|████████████████████████████████| 350/350 [00:00<00:00, 6857.34 timestep/s]"
     ]
    },
    {
     "name": "stdout",
     "output_type": "stream",
     "text": [
      "Integrating 1 scenarios, 1 gas cycle parameter sets, 1 thermal response parameter sets, over ['carbon_dioxide'] forcing agents, between 0 and 350...\n"
     ]
    },
    {
     "name": "stderr",
     "output_type": "stream",
     "text": [
      "\n",
      "100%|████████████████████████████████| 350/350 [00:00<00:00, 6931.92 timestep/s]"
     ]
    },
    {
     "name": "stdout",
     "output_type": "stream",
     "text": [
      "Integrating 1 scenarios, 1 gas cycle parameter sets, 1 thermal response parameter sets, over ['carbon_dioxide'] forcing agents, between 0 and 350...\n"
     ]
    },
    {
     "name": "stderr",
     "output_type": "stream",
     "text": [
      "\n",
      "100%|████████████████████████████████| 350/350 [00:00<00:00, 6964.21 timestep/s]"
     ]
    },
    {
     "name": "stdout",
     "output_type": "stream",
     "text": [
      "Integrating 1 scenarios, 1 gas cycle parameter sets, 1 thermal response parameter sets, over ['carbon_dioxide'] forcing agents, between 0 and 350...\n"
     ]
    },
    {
     "name": "stderr",
     "output_type": "stream",
     "text": [
      "\n",
      "100%|████████████████████████████████| 350/350 [00:00<00:00, 6929.46 timestep/s]"
     ]
    },
    {
     "name": "stdout",
     "output_type": "stream",
     "text": [
      "Integrating 1 scenarios, 1 gas cycle parameter sets, 1 thermal response parameter sets, over ['carbon_dioxide'] forcing agents, between 0 and 350...\n"
     ]
    },
    {
     "name": "stderr",
     "output_type": "stream",
     "text": [
      "\n",
      "100%|████████████████████████████████| 350/350 [00:00<00:00, 7032.87 timestep/s]"
     ]
    },
    {
     "name": "stdout",
     "output_type": "stream",
     "text": [
      "Integrating 1 scenarios, 1 gas cycle parameter sets, 1 thermal response parameter sets, over ['carbon_dioxide'] forcing agents, between 0 and 350...\n"
     ]
    },
    {
     "name": "stderr",
     "output_type": "stream",
     "text": [
      "\n",
      "100%|████████████████████████████████| 350/350 [00:00<00:00, 6838.46 timestep/s]"
     ]
    },
    {
     "name": "stdout",
     "output_type": "stream",
     "text": [
      "Integrating 1 scenarios, 1 gas cycle parameter sets, 1 thermal response parameter sets, over ['carbon_dioxide'] forcing agents, between 0 and 350...\n"
     ]
    },
    {
     "name": "stderr",
     "output_type": "stream",
     "text": [
      "\n",
      "100%|████████████████████████████████| 350/350 [00:00<00:00, 6592.06 timestep/s]"
     ]
    },
    {
     "name": "stdout",
     "output_type": "stream",
     "text": [
      "Integrating 1 scenarios, 1 gas cycle parameter sets, 1 thermal response parameter sets, over ['carbon_dioxide'] forcing agents, between 0 and 350...\n"
     ]
    },
    {
     "name": "stderr",
     "output_type": "stream",
     "text": [
      "\n",
      "100%|████████████████████████████████| 350/350 [00:00<00:00, 6590.47 timestep/s]"
     ]
    },
    {
     "name": "stdout",
     "output_type": "stream",
     "text": [
      "Integrating 1 scenarios, 1 gas cycle parameter sets, 1 thermal response parameter sets, over ['carbon_dioxide'] forcing agents, between 0 and 350...\n"
     ]
    },
    {
     "name": "stderr",
     "output_type": "stream",
     "text": [
      "\n",
      "100%|████████████████████████████████| 350/350 [00:00<00:00, 6897.07 timestep/s]"
     ]
    },
    {
     "name": "stdout",
     "output_type": "stream",
     "text": [
      "Integrating 1 scenarios, 1 gas cycle parameter sets, 1 thermal response parameter sets, over ['carbon_dioxide'] forcing agents, between 0 and 350...\n"
     ]
    },
    {
     "name": "stderr",
     "output_type": "stream",
     "text": [
      "\n",
      "100%|████████████████████████████████| 350/350 [00:00<00:00, 6967.51 timestep/s]"
     ]
    },
    {
     "name": "stdout",
     "output_type": "stream",
     "text": [
      "Integrating 1 scenarios, 1 gas cycle parameter sets, 1 thermal response parameter sets, over ['carbon_dioxide'] forcing agents, between 0 and 350...\n"
     ]
    },
    {
     "name": "stderr",
     "output_type": "stream",
     "text": [
      "\n",
      "100%|████████████████████████████████| 350/350 [00:00<00:00, 6936.17 timestep/s]"
     ]
    },
    {
     "name": "stdout",
     "output_type": "stream",
     "text": [
      "Integrating 1 scenarios, 1 gas cycle parameter sets, 1 thermal response parameter sets, over ['carbon_dioxide'] forcing agents, between 0 and 350...\n"
     ]
    },
    {
     "name": "stderr",
     "output_type": "stream",
     "text": [
      "\n",
      "100%|████████████████████████████████| 350/350 [00:00<00:00, 6797.43 timestep/s]"
     ]
    },
    {
     "name": "stdout",
     "output_type": "stream",
     "text": [
      "Integrating 1 scenarios, 1 gas cycle parameter sets, 1 thermal response parameter sets, over ['carbon_dioxide'] forcing agents, between 0 and 350...\n"
     ]
    },
    {
     "name": "stderr",
     "output_type": "stream",
     "text": [
      "\n",
      "100%|████████████████████████████████| 350/350 [00:00<00:00, 6250.11 timestep/s]"
     ]
    },
    {
     "name": "stdout",
     "output_type": "stream",
     "text": [
      "Integrating 1 scenarios, 1 gas cycle parameter sets, 1 thermal response parameter sets, over ['carbon_dioxide'] forcing agents, between 0 and 350...\n"
     ]
    },
    {
     "name": "stderr",
     "output_type": "stream",
     "text": [
      "\n",
      "100%|████████████████████████████████| 350/350 [00:00<00:00, 6839.01 timestep/s]"
     ]
    },
    {
     "name": "stdout",
     "output_type": "stream",
     "text": [
      "Integrating 1 scenarios, 1 gas cycle parameter sets, 1 thermal response parameter sets, over ['carbon_dioxide'] forcing agents, between 0 and 350...\n"
     ]
    },
    {
     "name": "stderr",
     "output_type": "stream",
     "text": [
      "\n",
      "100%|████████████████████████████████| 350/350 [00:00<00:00, 6913.86 timestep/s]"
     ]
    },
    {
     "name": "stdout",
     "output_type": "stream",
     "text": [
      "Integrating 1 scenarios, 1 gas cycle parameter sets, 1 thermal response parameter sets, over ['carbon_dioxide'] forcing agents, between 0 and 350...\n"
     ]
    },
    {
     "name": "stderr",
     "output_type": "stream",
     "text": [
      "\n",
      "100%|████████████████████████████████| 350/350 [00:00<00:00, 6824.60 timestep/s]"
     ]
    },
    {
     "name": "stdout",
     "output_type": "stream",
     "text": [
      "Integrating 1 scenarios, 1 gas cycle parameter sets, 1 thermal response parameter sets, over ['carbon_dioxide'] forcing agents, between 0 and 350...\n"
     ]
    },
    {
     "name": "stderr",
     "output_type": "stream",
     "text": [
      "\n",
      "100%|████████████████████████████████| 350/350 [00:00<00:00, 6668.69 timestep/s]"
     ]
    },
    {
     "name": "stdout",
     "output_type": "stream",
     "text": [
      "Integrating 1 scenarios, 1 gas cycle parameter sets, 1 thermal response parameter sets, over ['carbon_dioxide'] forcing agents, between 0 and 350...\n"
     ]
    },
    {
     "name": "stderr",
     "output_type": "stream",
     "text": [
      "\n",
      "100%|████████████████████████████████| 350/350 [00:00<00:00, 6848.42 timestep/s]"
     ]
    },
    {
     "name": "stdout",
     "output_type": "stream",
     "text": [
      "Integrating 1 scenarios, 1 gas cycle parameter sets, 1 thermal response parameter sets, over ['carbon_dioxide'] forcing agents, between 0 and 350...\n"
     ]
    },
    {
     "name": "stderr",
     "output_type": "stream",
     "text": [
      "\n",
      "100%|████████████████████████████████| 350/350 [00:00<00:00, 6982.09 timestep/s]"
     ]
    },
    {
     "name": "stdout",
     "output_type": "stream",
     "text": [
      "Integrating 1 scenarios, 1 gas cycle parameter sets, 1 thermal response parameter sets, over ['carbon_dioxide'] forcing agents, between 0 and 350...\n"
     ]
    },
    {
     "name": "stderr",
     "output_type": "stream",
     "text": [
      "\n",
      "100%|████████████████████████████████| 350/350 [00:00<00:00, 6913.86 timestep/s]"
     ]
    },
    {
     "name": "stdout",
     "output_type": "stream",
     "text": [
      "Integrating 1 scenarios, 1 gas cycle parameter sets, 1 thermal response parameter sets, over ['carbon_dioxide'] forcing agents, between 0 and 350...\n"
     ]
    },
    {
     "name": "stderr",
     "output_type": "stream",
     "text": [
      "\n",
      "100%|████████████████████████████████| 350/350 [00:00<00:00, 6935.35 timestep/s]\n"
     ]
    }
   ],
   "source": [
    "list_dfs = []\n",
    "for m in range(1,len(df)): \n",
    "  #  for i in master_array[9]:\n",
    "        # shut off emissions from country i\n",
    "#        data_iso = data1[data1[\"ISO3\"] == i]\n",
    " #       data_iso = data_iso[[\"Year\", \"Total\"]]\n",
    "  #      data_iso.rename(columns = {'Total':'Total_iso'}, inplace = True)\n",
    "   #     data_new = pd.merge(data, data_iso, on = \"Year\")\n",
    "    #    data_new[\"Total\"] = data_new[\"Total\"] - data_new[\"Total_iso\"]\n",
    "    data_new = data\n",
    "    data_new = data_new[[\"Year\", \"Total\"]]\n",
    "    data_new.rename(columns = {'Total':'carbon_dioxide'}, inplace = True) #change name to match emissions data\n",
    "    data_new.rename(columns = {'Year':'year'}, inplace = True) #change name to match emissions data\n",
    "    data_new[\"year\"] = pd.to_numeric(data_new[\"year\"]) \n",
    "    # since the carbon emissions are on MtCO2, we need to convert to GtC\n",
    "    data_new['carbon_dioxide'] = (data_new['carbon_dioxide'] / 1000) / 3.67 \n",
    "    #data_new = data_new[data_new[\"year\"] >= 1980].reset_index() # only keep 1980 and forward\n",
    "    data_new['year'] = data_new['year'] - (min(data_new['year']) - 1) \n",
    "    #feed updated emissions to test_emissions\n",
    "    test_emissions[(\"Test\", \"carbon_dioxide\")] = data_new['carbon_dioxide']\n",
    "        # test_gas_parameters[(\"default\", \"carbon_dioxide\")][6] = list(df1[\"taunum\"])[0]\n",
    "        \n",
    "        # therefore use central estimates for d1-3, q1; and set q2, q3 to return \"correct\" TCR/ECS values\n",
    "    df1 = df[df['idnum'] == m] \n",
    "    d1 = 0.903\n",
    "    d2 = list(df1[\"d2num\"])[0]\n",
    "    d3 = 355\n",
    "    q1 = 0.180\n",
    "    rwf = list(df1[\"rwfnum\"])[0]\n",
    "\n",
    "    TCR = list(df1[\"tcrnum\"])[0]\n",
    "    ECS = TCR / rwf\n",
    "    F_2x = 3.759\n",
    "\n",
    "    v1 = (1-(d1/69.66) * (1-np.exp(-69.66/d1)) )\n",
    "    v2 = (1-(d2/69.66) * (1-np.exp(-69.66/d2)) )\n",
    "    v3 = (1-(d3/69.66) * (1-np.exp(-69.66/d3)) )\n",
    "\n",
    "    q3 = (((TCR/F_2x) - q1*(v1-v2) - (ECS/F_2x)*v2) / (v3-v2))\n",
    "    q2 = (ECS/F_2x - q1 -  q3)\n",
    "\n",
    "    test_thermal_parameters[\"default\",2][1] = q2\n",
    "    test_thermal_parameters[\"default\",3][1] = q3\n",
    "\n",
    "            #test_thermal_parameters = pd.DataFrame([[d1,d2,d3],[q1,q2,q3]],\n",
    "             #                                      index=['d','q'],\n",
    "              #                                     columns=pd.MultiIndex.from_product([['default'],\n",
    "                      #                                                                 [1,2,3]]))\n",
    "    pulse_run = run_FaIR(emissions_in=test_emissions,\n",
    "                         forcing_in=test_forcing,\n",
    "                         gas_parameters=test_gas_parameters,\n",
    "                         thermal_parameters=test_thermal_parameters)\n",
    "    temp_response = pulse_run['T']\n",
    "        #(temp_response.temp_response).apply(lambda x: float(x))   \n",
    "            #temp_response[\"temp_response\"] = float(temp_response[\"temp_response\"]) \n",
    "            #temp_response.to_csv('temp_response/tempresponse' + \"_\" + str(k) + \"_\" + str(iso) + '.csv') \n",
    "    temp_response[\"loop\"] = str(m) + \"_loop_all\" \n",
    "    list_dfs.append(temp_response)"
   ]
  },
  {
   "cell_type": "code",
   "execution_count": 15,
   "id": "6375a039",
   "metadata": {},
   "outputs": [],
   "source": [
    "pd.concat(list_dfs).to_csv(\"fair_temp_resp_1750_2100.csv\")"
   ]
  },
  {
   "cell_type": "code",
   "execution_count": 14,
   "id": "326955d0",
   "metadata": {},
   "outputs": [
    {
     "data": {
      "text/plain": [
       "[Scenario               Test        loop\n",
       " Gas cycle set       default            \n",
       " Year                                   \n",
       " 0              6.790477e-07  1_loop_all\n",
       " 1              2.871179e-06  1_loop_all\n",
       " 2              6.084925e-06  1_loop_all\n",
       " 3              9.524945e-06  1_loop_all\n",
       " 4              1.301070e-05  1_loop_all\n",
       " ...                     ...         ...\n",
       " 346            1.668431e+00  1_loop_all\n",
       " 347            1.685190e+00  1_loop_all\n",
       " 348            1.701993e+00  1_loop_all\n",
       " 349            1.718841e+00  1_loop_all\n",
       " 350            1.735732e+00  1_loop_all\n",
       " \n",
       " [351 rows x 2 columns],\n",
       " Scenario               Test        loop\n",
       " Gas cycle set       default            \n",
       " Year                                   \n",
       " 0              6.218780e-07  2_loop_all\n",
       " 1              2.602648e-06  2_loop_all\n",
       " 2              5.438022e-06  2_loop_all\n",
       " 3              8.376105e-06  2_loop_all\n",
       " 4              1.126459e-05  2_loop_all\n",
       " ...                     ...         ...\n",
       " 346            1.492209e+00  2_loop_all\n",
       " 347            1.509087e+00  2_loop_all\n",
       " 348            1.526043e+00  2_loop_all\n",
       " 349            1.543078e+00  2_loop_all\n",
       " 350            1.560191e+00  2_loop_all\n",
       " \n",
       " [351 rows x 2 columns],\n",
       " Scenario               Test        loop\n",
       " Gas cycle set       default            \n",
       " Year                                   \n",
       " 0              7.310738e-07  3_loop_all\n",
       " 1              3.116154e-06  3_loop_all\n",
       " 2              6.677071e-06  3_loop_all\n",
       " 3              1.058074e-05  3_loop_all\n",
       " 4              1.462226e-05  3_loop_all\n",
       " ...                     ...         ...\n",
       " 346            2.091635e+00  3_loop_all\n",
       " 347            2.112636e+00  3_loop_all\n",
       " 348            2.133688e+00  3_loop_all\n",
       " 349            2.154793e+00  3_loop_all\n",
       " 350            2.175948e+00  3_loop_all\n",
       " \n",
       " [351 rows x 2 columns],\n",
       " Scenario               Test        loop\n",
       " Gas cycle set       default            \n",
       " Year                                   \n",
       " 0              6.784476e-07  4_loop_all\n",
       " 1              2.868705e-06  4_loop_all\n",
       " 2              6.080105e-06  4_loop_all\n",
       " 3              9.518783e-06  4_loop_all\n",
       " 4              1.300527e-05  4_loop_all\n",
       " ...                     ...         ...\n",
       " 346            1.814592e+00  4_loop_all\n",
       " 347            1.833819e+00  4_loop_all\n",
       " 348            1.853114e+00  4_loop_all\n",
       " 349            1.872476e+00  4_loop_all\n",
       " 350            1.891905e+00  4_loop_all\n",
       " \n",
       " [351 rows x 2 columns],\n",
       " Scenario               Test        loop\n",
       " Gas cycle set       default            \n",
       " Year                                   \n",
       " 0              6.406404e-07  5_loop_all\n",
       " 1              2.690519e-06  5_loop_all\n",
       " 2              5.648856e-06  5_loop_all\n",
       " 3              8.748736e-06  5_loop_all\n",
       " 4              1.182802e-05  5_loop_all\n",
       " ...                     ...         ...\n",
       " 346            1.440180e+00  5_loop_all\n",
       " 347            1.455196e+00  5_loop_all\n",
       " 348            1.470263e+00  5_loop_all\n",
       " 349            1.485381e+00  5_loop_all\n",
       " 350            1.500550e+00  5_loop_all\n",
       " \n",
       " [351 rows x 2 columns],\n",
       " Scenario               Test        loop\n",
       " Gas cycle set       default            \n",
       " Year                                   \n",
       " 0              7.721343e-07  6_loop_all\n",
       " 1              3.310033e-06  6_loop_all\n",
       " 2              7.147483e-06  6_loop_all\n",
       " 3              1.142319e-05  6_loop_all\n",
       " 4              1.591425e-05  6_loop_all\n",
       " ...                     ...         ...\n",
       " 346            2.666764e+00  6_loop_all\n",
       " 347            2.695155e+00  6_loop_all\n",
       " 348            2.723640e+00  6_loop_all\n",
       " 349            2.752218e+00  6_loop_all\n",
       " 350            2.780888e+00  6_loop_all\n",
       " \n",
       " [351 rows x 2 columns],\n",
       " Scenario               Test        loop\n",
       " Gas cycle set       default            \n",
       " Year                                   \n",
       " 0              8.222628e-07  7_loop_all\n",
       " 1              3.545881e-06  7_loop_all\n",
       " 2              7.716933e-06  7_loop_all\n",
       " 3              1.243719e-05  7_loop_all\n",
       " 4              1.745984e-05  7_loop_all\n",
       " ...                     ...         ...\n",
       " 346            3.003743e+00  7_loop_all\n",
       " 347            3.035014e+00  7_loop_all\n",
       " 348            3.066373e+00  7_loop_all\n",
       " 349            3.097818e+00  7_loop_all\n",
       " 350            3.129350e+00  7_loop_all\n",
       " \n",
       " [351 rows x 2 columns],\n",
       " Scenario               Test        loop\n",
       " Gas cycle set       default            \n",
       " Year                                   \n",
       " 0              8.570656e-07  8_loop_all\n",
       " 1              3.710999e-06  8_loop_all\n",
       " 2              8.120139e-06  8_loop_all\n",
       " 3              1.316467e-05  8_loop_all\n",
       " 4              1.858428e-05  8_loop_all\n",
       " ...                     ...         ...\n",
       " 346            3.859781e+00  8_loop_all\n",
       " 347            3.903596e+00  8_loop_all\n",
       " 348            3.947591e+00  8_loop_all\n",
       " 349            3.991765e+00  8_loop_all\n",
       " 350            4.036117e+00  8_loop_all\n",
       " \n",
       " [351 rows x 2 columns],\n",
       " Scenario               Test        loop\n",
       " Gas cycle set       default            \n",
       " Year                                   \n",
       " 0              6.061236e-07  9_loop_all\n",
       " 1              2.527601e-06  9_loop_all\n",
       " 2              5.253779e-06  9_loop_all\n",
       " 3              8.041638e-06  9_loop_all\n",
       " 4              1.074433e-05  9_loop_all\n",
       " ...                     ...         ...\n",
       " 346            1.002600e+00  9_loop_all\n",
       " 347            1.012187e+00  9_loop_all\n",
       " 348            1.021798e+00  9_loop_all\n",
       " 349            1.031431e+00  9_loop_all\n",
       " 350            1.041085e+00  9_loop_all\n",
       " \n",
       " [351 rows x 2 columns],\n",
       " Scenario               Test         loop\n",
       " Gas cycle set       default             \n",
       " Year                                    \n",
       " 0              6.813570e-07  10_loop_all\n",
       " 1              2.883491e-06  10_loop_all\n",
       " 2              6.119417e-06  10_loop_all\n",
       " 3              9.596370e-06  10_loop_all\n",
       " 4              1.313593e-05  10_loop_all\n",
       " ...                     ...          ...\n",
       " 346            2.306764e+00  10_loop_all\n",
       " 347            2.334077e+00  10_loop_all\n",
       " 348            2.361529e+00  10_loop_all\n",
       " 349            2.389120e+00  10_loop_all\n",
       " 350            2.416850e+00  10_loop_all\n",
       " \n",
       " [351 rows x 2 columns],\n",
       " Scenario               Test         loop\n",
       " Gas cycle set       default             \n",
       " Year                                    \n",
       " 0              6.784395e-07  11_loop_all\n",
       " 1              2.868308e-06  11_loop_all\n",
       " 2              6.077962e-06  11_loop_all\n",
       " 3              9.512483e-06  11_loop_all\n",
       " 4              1.299160e-05  11_loop_all\n",
       " ...                     ...          ...\n",
       " 346            1.660536e+00  11_loop_all\n",
       " 347            1.677195e+00  11_loop_all\n",
       " 348            1.693899e+00  11_loop_all\n",
       " 349            1.710647e+00  11_loop_all\n",
       " 350            1.727438e+00  11_loop_all\n",
       " \n",
       " [351 rows x 2 columns],\n",
       " Scenario               Test         loop\n",
       " Gas cycle set       default             \n",
       " Year                                    \n",
       " 0              8.938008e-07  12_loop_all\n",
       " 1              3.882522e-06  12_loop_all\n",
       " 2              8.529963e-06  12_loop_all\n",
       " 3              1.388537e-05  12_loop_all\n",
       " 4              1.966798e-05  12_loop_all\n",
       " ...                     ...          ...\n",
       " 346            3.522127e+00  12_loop_all\n",
       " 347            3.558099e+00  12_loop_all\n",
       " 348            3.594153e+00  12_loop_all\n",
       " 349            3.630289e+00  12_loop_all\n",
       " 350            3.666507e+00  12_loop_all\n",
       " \n",
       " [351 rows x 2 columns],\n",
       " Scenario               Test         loop\n",
       " Gas cycle set       default             \n",
       " Year                                    \n",
       " 0              8.161676e-07  13_loop_all\n",
       " 1              3.516901e-06  13_loop_all\n",
       " 2              7.645963e-06  13_loop_all\n",
       " 3              1.230872e-05  13_loop_all\n",
       " 4              1.726060e-05  13_loop_all\n",
       " ...                     ...          ...\n",
       " 346            2.828187e+00  13_loop_all\n",
       " 347            2.856840e+00  13_loop_all\n",
       " 348            2.885561e+00  13_loop_all\n",
       " 349            2.914349e+00  13_loop_all\n",
       " 350            2.943204e+00  13_loop_all\n",
       " \n",
       " [351 rows x 2 columns],\n",
       " Scenario               Test         loop\n",
       " Gas cycle set       default             \n",
       " Year                                    \n",
       " 0              8.019652e-07  14_loop_all\n",
       " 1              3.450848e-06  14_loop_all\n",
       " 2              7.489009e-06  14_loop_all\n",
       " 3              1.203455e-05  14_loop_all\n",
       " 4              1.685137e-05  14_loop_all\n",
       " ...                     ...          ...\n",
       " 346            3.072784e+00  14_loop_all\n",
       " 347            3.106361e+00  14_loop_all\n",
       " 348            3.140060e+00  14_loop_all\n",
       " 349            3.173881e+00  14_loop_all\n",
       " 350            3.207822e+00  14_loop_all\n",
       " \n",
       " [351 rows x 2 columns],\n",
       " Scenario               Test         loop\n",
       " Gas cycle set       default             \n",
       " Year                                    \n",
       " 0              6.303809e-07  15_loop_all\n",
       " 1              2.642454e-06  15_loop_all\n",
       " 2              5.533479e-06  15_loop_all\n",
       " 3              8.544705e-06  15_loop_all\n",
       " 4              1.151934e-05  15_loop_all\n",
       " ...                     ...          ...\n",
       " 346            1.461880e+00  15_loop_all\n",
       " 347            1.477802e+00  15_loop_all\n",
       " 348            1.493789e+00  15_loop_all\n",
       " 349            1.509842e+00  15_loop_all\n",
       " 350            1.525959e+00  15_loop_all\n",
       " \n",
       " [351 rows x 2 columns],\n",
       " Scenario               Test         loop\n",
       " Gas cycle set       default             \n",
       " Year                                    \n",
       " 0              6.054122e-07  16_loop_all\n",
       " 1              2.524462e-06  16_loop_all\n",
       " 2              5.246886e-06  16_loop_all\n",
       " 3              8.030804e-06  16_loop_all\n",
       " 4              1.073017e-05  16_loop_all\n",
       " ...                     ...          ...\n",
       " 346            1.085589e+00  16_loop_all\n",
       " 347            1.096587e+00  16_loop_all\n",
       " 348            1.107621e+00  16_loop_all\n",
       " 349            1.118689e+00  16_loop_all\n",
       " 350            1.129792e+00  16_loop_all\n",
       " \n",
       " [351 rows x 2 columns],\n",
       " Scenario               Test         loop\n",
       " Gas cycle set       default             \n",
       " Year                                    \n",
       " 0              6.397607e-07  17_loop_all\n",
       " 1              2.686883e-06  17_loop_all\n",
       " 2              5.641735e-06  17_loop_all\n",
       " 3              8.739538e-06  17_loop_all\n",
       " 4              1.181969e-05  17_loop_all\n",
       " ...                     ...          ...\n",
       " 346            1.648797e+00  17_loop_all\n",
       " 347            1.667332e+00  17_loop_all\n",
       " 348            1.685951e+00  17_loop_all\n",
       " 349            1.704653e+00  17_loop_all\n",
       " 350            1.723438e+00  17_loop_all\n",
       " \n",
       " [351 rows x 2 columns],\n",
       " Scenario               Test         loop\n",
       " Gas cycle set       default             \n",
       " Year                                    \n",
       " 0              8.997996e-07  18_loop_all\n",
       " 1              3.911325e-06  18_loop_all\n",
       " 2              8.601416e-06  18_loop_all\n",
       " 3              1.401661e-05  18_loop_all\n",
       " 4              1.987458e-05  18_loop_all\n",
       " ...                     ...          ...\n",
       " 346            3.826071e+00  18_loop_all\n",
       " 347            3.866857e+00  18_loop_all\n",
       " 348            3.907766e+00  18_loop_all\n",
       " 349            3.948797e+00  18_loop_all\n",
       " 350            3.989950e+00  18_loop_all\n",
       " \n",
       " [351 rows x 2 columns],\n",
       " Scenario               Test         loop\n",
       " Gas cycle set       default             \n",
       " Year                                    \n",
       " 0              6.265252e-07  19_loop_all\n",
       " 1              2.623935e-06  19_loop_all\n",
       " 2              5.487517e-06  19_loop_all\n",
       " 3              8.460245e-06  19_loop_all\n",
       " 4              1.138631e-05  19_loop_all\n",
       " ...                     ...          ...\n",
       " 346            1.276981e+00  19_loop_all\n",
       " 347            1.290036e+00  19_loop_all\n",
       " 348            1.303133e+00  19_loop_all\n",
       " 349            1.316272e+00  19_loop_all\n",
       " 350            1.329452e+00  19_loop_all\n",
       " \n",
       " [351 rows x 2 columns],\n",
       " Scenario               Test         loop\n",
       " Gas cycle set       default             \n",
       " Year                                    \n",
       " 0              5.651617e-07  20_loop_all\n",
       " 1              2.335267e-06  20_loop_all\n",
       " 2              4.790659e-06  20_loop_all\n",
       " 3              7.219644e-06  20_loop_all\n",
       " 4              9.495751e-06  20_loop_all\n",
       " ...                     ...          ...\n",
       " 346            9.085008e-01  20_loop_all\n",
       " 347            9.186753e-01  20_loop_all\n",
       " 348            9.289002e-01  20_loop_all\n",
       " 349            9.391749e-01  20_loop_all\n",
       " 350            9.494989e-01  20_loop_all\n",
       " \n",
       " [351 rows x 2 columns],\n",
       " Scenario               Test         loop\n",
       " Gas cycle set       default             \n",
       " Year                                    \n",
       " 0              6.921346e-07  21_loop_all\n",
       " 1              2.932959e-06  21_loop_all\n",
       " 2              6.234776e-06  21_loop_all\n",
       " 3              9.793216e-06  21_loop_all\n",
       " 4              1.342197e-05  21_loop_all\n",
       " ...                     ...          ...\n",
       " 346            1.841941e+00  21_loop_all\n",
       " 347            1.860886e+00  21_loop_all\n",
       " 348            1.879889e+00  21_loop_all\n",
       " 349            1.898948e+00  21_loop_all\n",
       " 350            1.918062e+00  21_loop_all\n",
       " \n",
       " [351 rows x 2 columns],\n",
       " Scenario               Test         loop\n",
       " Gas cycle set       default             \n",
       " Year                                    \n",
       " 0              6.472800e-07  22_loop_all\n",
       " 1              2.721601e-06  22_loop_all\n",
       " 2              5.723389e-06  22_loop_all\n",
       " 3              8.880374e-06  22_loop_all\n",
       " 4              1.202690e-05  22_loop_all\n",
       " ...                     ...          ...\n",
       " 346            1.416051e+00  22_loop_all\n",
       " 347            1.430313e+00  22_loop_all\n",
       " 348            1.444615e+00  22_loop_all\n",
       " 349            1.458958e+00  22_loop_all\n",
       " 350            1.473340e+00  22_loop_all\n",
       " \n",
       " [351 rows x 2 columns],\n",
       " Scenario               Test         loop\n",
       " Gas cycle set       default             \n",
       " Year                                    \n",
       " 0              6.930110e-07  23_loop_all\n",
       " 1              2.936752e-06  23_loop_all\n",
       " 2              6.242850e-06  23_loop_all\n",
       " 3              9.805315e-06  23_loop_all\n",
       " 4              1.343668e-05  23_loop_all\n",
       " ...                     ...          ...\n",
       " 346            1.706068e+00  23_loop_all\n",
       " 347            1.722701e+00  23_loop_all\n",
       " 348            1.739369e+00  23_loop_all\n",
       " 349            1.756073e+00  23_loop_all\n",
       " 350            1.772811e+00  23_loop_all\n",
       " \n",
       " [351 rows x 2 columns],\n",
       " Scenario               Test         loop\n",
       " Gas cycle set       default             \n",
       " Year                                    \n",
       " 0              9.170727e-07  24_loop_all\n",
       " 1              3.994835e-06  24_loop_all\n",
       " 2              8.810433e-06  24_loop_all\n",
       " 3              1.440430e-05  24_loop_all\n",
       " 4              2.049088e-05  24_loop_all\n",
       " ...                     ...          ...\n",
       " 346            4.977595e+00  24_loop_all\n",
       " 347            5.037081e+00  24_loop_all\n",
       " 348            5.096851e+00  24_loop_all\n",
       " 349            5.156904e+00  24_loop_all\n",
       " 350            5.217241e+00  24_loop_all\n",
       " \n",
       " [351 rows x 2 columns],\n",
       " Scenario               Test         loop\n",
       " Gas cycle set       default             \n",
       " Year                                    \n",
       " 0              7.786646e-07  25_loop_all\n",
       " 1              3.340666e-06  25_loop_all\n",
       " 2              7.221144e-06  25_loop_all\n",
       " 3              1.155372e-05  25_loop_all\n",
       " 4              1.611218e-05  25_loop_all\n",
       " ...                     ...          ...\n",
       " 346            2.670158e+00  25_loop_all\n",
       " 347            2.698244e+00  25_loop_all\n",
       " 348            2.726416e+00  25_loop_all\n",
       " 349            2.754675e+00  25_loop_all\n",
       " 350            2.783019e+00  25_loop_all\n",
       " \n",
       " [351 rows x 2 columns],\n",
       " Scenario               Test         loop\n",
       " Gas cycle set       default             \n",
       " Year                                    \n",
       " 0              6.292913e-07  26_loop_all\n",
       " 1              2.636907e-06  26_loop_all\n",
       " 2              5.518702e-06  26_loop_all\n",
       " 3              8.515485e-06  26_loop_all\n",
       " 4              1.147004e-05  26_loop_all\n",
       " ...                     ...          ...\n",
       " 346            1.276787e+00  26_loop_all\n",
       " 347            1.289692e+00  26_loop_all\n",
       " 348            1.302637e+00  26_loop_all\n",
       " 349            1.315620e+00  26_loop_all\n",
       " 350            1.328641e+00  26_loop_all\n",
       " \n",
       " [351 rows x 2 columns],\n",
       " Scenario               Test         loop\n",
       " Gas cycle set       default             \n",
       " Year                                    \n",
       " 0              6.187308e-07  27_loop_all\n",
       " 1              2.587584e-06  27_loop_all\n",
       " 2              5.400807e-06  27_loop_all\n",
       " 3              8.308063e-06  27_loop_all\n",
       " 4              1.115798e-05  27_loop_all\n",
       " ...                     ...          ...\n",
       " 346            1.363448e+00  27_loop_all\n",
       " 347            1.378351e+00  27_loop_all\n",
       " 348            1.393317e+00  27_loop_all\n",
       " 349            1.408345e+00  27_loop_all\n",
       " 350            1.423436e+00  27_loop_all\n",
       " \n",
       " [351 rows x 2 columns],\n",
       " Scenario               Test         loop\n",
       " Gas cycle set       default             \n",
       " Year                                    \n",
       " 0              8.975874e-07  28_loop_all\n",
       " 1              3.900705e-06  28_loop_all\n",
       " 2              8.575077e-06  28_loop_all\n",
       " 3              1.396824e-05  28_loop_all\n",
       " 4              1.979846e-05  28_loop_all\n",
       " ...                     ...          ...\n",
       " 346            3.714540e+00  28_loop_all\n",
       " 347            3.753559e+00  28_loop_all\n",
       " 348            3.792685e+00  28_loop_all\n",
       " 349            3.831919e+00  28_loop_all\n",
       " 350            3.871259e+00  28_loop_all\n",
       " \n",
       " [351 rows x 2 columns],\n",
       " Scenario           Test         loop\n",
       " Gas cycle set   default             \n",
       " Year                                \n",
       " 0              0.000001  29_loop_all\n",
       " 1              0.000006  29_loop_all\n",
       " 2              0.000014  29_loop_all\n",
       " 3              0.000024  29_loop_all\n",
       " 4              0.000034  29_loop_all\n",
       " ...                 ...          ...\n",
       " 346            8.931405  29_loop_all\n",
       " 347            9.031441  29_loop_all\n",
       " 348            9.131760  29_loop_all\n",
       " 349            9.232360  29_loop_all\n",
       " 350            9.333237  29_loop_all\n",
       " \n",
       " [351 rows x 2 columns],\n",
       " Scenario               Test         loop\n",
       " Gas cycle set       default             \n",
       " Year                                    \n",
       " 0              6.983590e-07  30_loop_all\n",
       " 1              2.962163e-06  30_loop_all\n",
       " 2              6.305026e-06  30_loop_all\n",
       " 3              9.917753e-06  30_loop_all\n",
       " 4              1.361089e-05  30_loop_all\n",
       " ...                     ...          ...\n",
       " 346            1.847758e+00  30_loop_all\n",
       " 347            1.866464e+00  30_loop_all\n",
       " 348            1.885221e+00  30_loop_all\n",
       " 349            1.904028e+00  30_loop_all\n",
       " 350            1.922886e+00  30_loop_all\n",
       " \n",
       " [351 rows x 2 columns],\n",
       " Scenario               Test         loop\n",
       " Gas cycle set       default             \n",
       " Year                                    \n",
       " 0              6.998742e-07  31_loop_all\n",
       " 1              2.970717e-06  31_loop_all\n",
       " 2              6.330370e-06  31_loop_all\n",
       " 3              9.972733e-06  31_loop_all\n",
       " 4              1.371080e-05  31_loop_all\n",
       " ...                     ...          ...\n",
       " 346            2.474371e+00  31_loop_all\n",
       " 347            2.503496e+00  31_loop_all\n",
       " 348            2.532767e+00  31_loop_all\n",
       " 349            2.562182e+00  31_loop_all\n",
       " 350            2.591740e+00  31_loop_all\n",
       " \n",
       " [351 rows x 2 columns],\n",
       " Scenario            Test         loop\n",
       " Gas cycle set    default             \n",
       " Year                                 \n",
       " 0               0.000001  32_loop_all\n",
       " 1               0.000007  32_loop_all\n",
       " 2               0.000015  32_loop_all\n",
       " 3               0.000026  32_loop_all\n",
       " 4               0.000038  32_loop_all\n",
       " ...                  ...          ...\n",
       " 346            11.502963  32_loop_all\n",
       " 347            11.640880  32_loop_all\n",
       " 348            11.779308  32_loop_all\n",
       " 349            11.918240  32_loop_all\n",
       " 350            12.057673  32_loop_all\n",
       " \n",
       " [351 rows x 2 columns],\n",
       " Scenario               Test         loop\n",
       " Gas cycle set       default             \n",
       " Year                                    \n",
       " 0              8.022139e-07  33_loop_all\n",
       " 1              3.451927e-06  33_loop_all\n",
       " 2              7.491310e-06  33_loop_all\n",
       " 3              1.203801e-05  33_loop_all\n",
       " 4              1.685561e-05  33_loop_all\n",
       " ...                     ...          ...\n",
       " 346            3.033702e+00  33_loop_all\n",
       " 347            3.066605e+00  33_loop_all\n",
       " 348            3.099623e+00  33_loop_all\n",
       " 349            3.132756e+00  33_loop_all\n",
       " 350            3.166004e+00  33_loop_all\n",
       " \n",
       " [351 rows x 2 columns],\n",
       " Scenario               Test         loop\n",
       " Gas cycle set       default             \n",
       " Year                                    \n",
       " 0              7.004002e-07  34_loop_all\n",
       " 1              2.971918e-06  34_loop_all\n",
       " 2              6.329078e-06  34_loop_all\n",
       " 3              9.961629e-06  34_loop_all\n",
       " 4              1.367948e-05  34_loop_all\n",
       " ...                     ...          ...\n",
       " 346            1.926181e+00  34_loop_all\n",
       " 347            1.946086e+00  34_loop_all\n",
       " 348            1.966051e+00  34_loop_all\n",
       " 349            1.986076e+00  34_loop_all\n",
       " 350            2.006161e+00  34_loop_all\n",
       " \n",
       " [351 rows x 2 columns],\n",
       " Scenario               Test         loop\n",
       " Gas cycle set       default             \n",
       " Year                                    \n",
       " 0              6.490645e-07  35_loop_all\n",
       " 1              2.730337e-06  35_loop_all\n",
       " 2              5.745602e-06  35_loop_all\n",
       " 3              8.922280e-06  35_loop_all\n",
       " 4              1.209462e-05  35_loop_all\n",
       " ...                     ...          ...\n",
       " 346            1.572150e+00  35_loop_all\n",
       " 347            1.588911e+00  35_loop_all\n",
       " 348            1.605736e+00  35_loop_all\n",
       " 349            1.622622e+00  35_loop_all\n",
       " 350            1.639570e+00  35_loop_all\n",
       " \n",
       " [351 rows x 2 columns],\n",
       " Scenario               Test         loop\n",
       " Gas cycle set       default             \n",
       " Year                                    \n",
       " 0              5.750880e-07  36_loop_all\n",
       " 1              2.381701e-06  36_loop_all\n",
       " 2              4.901893e-06  36_loop_all\n",
       " 3              7.415865e-06  36_loop_all\n",
       " 4              9.791818e-06  36_loop_all\n",
       " ...                     ...          ...\n",
       " 346            8.584955e-01  36_loop_all\n",
       " 347            8.673269e-01  36_loop_all\n",
       " 348            8.761915e-01  36_loop_all\n",
       " 349            8.850886e-01  36_loop_all\n",
       " 350            8.940175e-01  36_loop_all\n",
       " \n",
       " [351 rows x 2 columns],\n",
       " Scenario               Test         loop\n",
       " Gas cycle set       default             \n",
       " Year                                    \n",
       " 0              6.806930e-07  37_loop_all\n",
       " 1              2.878977e-06  37_loop_all\n",
       " 2              6.103944e-06  37_loop_all\n",
       " 3              9.559212e-06  37_loop_all\n",
       " 4              1.306359e-05  37_loop_all\n",
       " ...                     ...          ...\n",
       " 346            1.703724e+00  37_loop_all\n",
       " 347            1.720981e+00  37_loop_all\n",
       " 348            1.738288e+00  37_loop_all\n",
       " 349            1.755642e+00  37_loop_all\n",
       " 350            1.773043e+00  37_loop_all\n",
       " \n",
       " [351 rows x 2 columns],\n",
       " Scenario               Test         loop\n",
       " Gas cycle set       default             \n",
       " Year                                    \n",
       " 0              8.827265e-07  38_loop_all\n",
       " 1              3.830161e-06  38_loop_all\n",
       " 2              8.402692e-06  38_loop_all\n",
       " 3              1.365696e-05  38_loop_all\n",
       " 4              1.931692e-05  38_loop_all\n",
       " ...                     ...          ...\n",
       " 346            3.329911e+00  38_loop_all\n",
       " 347            3.363263e+00  38_loop_all\n",
       " 348            3.396681e+00  38_loop_all\n",
       " 349            3.430166e+00  38_loop_all\n",
       " 350            3.463715e+00  38_loop_all\n",
       " \n",
       " [351 rows x 2 columns],\n",
       " Scenario               Test         loop\n",
       " Gas cycle set       default             \n",
       " Year                                    \n",
       " 0              6.907273e-07  39_loop_all\n",
       " 1              2.926472e-06  39_loop_all\n",
       " 2              6.219557e-06  39_loop_all\n",
       " 3              9.767046e-06  39_loop_all\n",
       " 4              1.338360e-05  39_loop_all\n",
       " ...                     ...          ...\n",
       " 346            1.890687e+00  39_loop_all\n",
       " 347            1.910522e+00  39_loop_all\n",
       " 348            1.930423e+00  39_loop_all\n",
       " 349            1.950390e+00  39_loop_all\n",
       " 350            1.970421e+00  39_loop_all\n",
       " \n",
       " [351 rows x 2 columns],\n",
       " Scenario           Test         loop\n",
       " Gas cycle set   default             \n",
       " Year                                \n",
       " 0              0.000001  40_loop_all\n",
       " 1              0.000005  40_loop_all\n",
       " 2              0.000011  40_loop_all\n",
       " 3              0.000019  40_loop_all\n",
       " 4              0.000027  40_loop_all\n",
       " ...                 ...          ...\n",
       " 346            6.914486  40_loop_all\n",
       " 347            6.993923  40_loop_all\n",
       " 348            7.073656  40_loop_all\n",
       " 349            7.153685  40_loop_all\n",
       " 350            7.234009  40_loop_all\n",
       " \n",
       " [351 rows x 2 columns],\n",
       " Scenario               Test         loop\n",
       " Gas cycle set       default             \n",
       " Year                                    \n",
       " 0              9.403227e-07  41_loop_all\n",
       " 1              4.102580e-06  41_loop_all\n",
       " 2              9.065176e-06  41_loop_all\n",
       " 3              1.484655e-05  41_loop_all\n",
       " 4              2.114641e-05  41_loop_all\n",
       " ...                     ...          ...\n",
       " 346            4.385564e+00  41_loop_all\n",
       " 347            4.433534e+00  41_loop_all\n",
       " 348            4.481665e+00  41_loop_all\n",
       " 349            4.529956e+00  41_loop_all\n",
       " 350            4.578405e+00  41_loop_all\n",
       " \n",
       " [351 rows x 2 columns],\n",
       " Scenario               Test         loop\n",
       " Gas cycle set       default             \n",
       " Year                                    \n",
       " 0              7.435525e-07  42_loop_all\n",
       " 1              3.175187e-06  42_loop_all\n",
       " 2              6.820666e-06  42_loop_all\n",
       " 3              1.083866e-05  42_loop_all\n",
       " 4              1.501904e-05  42_loop_all\n",
       " ...                     ...          ...\n",
       " 346            2.313532e+00  42_loop_all\n",
       " 347            2.337565e+00  42_loop_all\n",
       " 348            2.361671e+00  42_loop_all\n",
       " 349            2.385848e+00  42_loop_all\n",
       " 350            2.410095e+00  42_loop_all\n",
       " \n",
       " [351 rows x 2 columns],\n",
       " Scenario               Test         loop\n",
       " Gas cycle set       default             \n",
       " Year                                    \n",
       " 0              9.314966e-07  43_loop_all\n",
       " 1              4.061047e-06  43_loop_all\n",
       " 2              8.964866e-06  43_loop_all\n",
       " 3              1.466788e-05  43_loop_all\n",
       " 4              2.087398e-05  43_loop_all\n",
       " ...                     ...          ...\n",
       " 346            4.319135e+00  43_loop_all\n",
       " 347            4.366487e+00  43_loop_all\n",
       " 348            4.413999e+00  43_loop_all\n",
       " 349            4.461671e+00  43_loop_all\n",
       " 350            4.509503e+00  43_loop_all\n",
       " \n",
       " [351 rows x 2 columns],\n",
       " Scenario               Test         loop\n",
       " Gas cycle set       default             \n",
       " Year                                    \n",
       " 0              7.361228e-07  44_loop_all\n",
       " 1              3.140339e-06  44_loop_all\n",
       " 2              6.736884e-06  44_loop_all\n",
       " 3              1.069022e-05  44_loop_all\n",
       " 4              1.479401e-05  44_loop_all\n",
       " ...                     ...          ...\n",
       " 346            2.311758e+00  44_loop_all\n",
       " 347            2.336170e+00  44_loop_all\n",
       " 348            2.360661e+00  44_loop_all\n",
       " 349            2.385232e+00  44_loop_all\n",
       " 350            2.409881e+00  44_loop_all\n",
       " \n",
       " [351 rows x 2 columns],\n",
       " Scenario               Test         loop\n",
       " Gas cycle set       default             \n",
       " Year                                    \n",
       " 0              9.054874e-07  45_loop_all\n",
       " 1              3.937905e-06  45_loop_all\n",
       " 2              8.665003e-06  45_loop_all\n",
       " 3              1.412859e-05  45_loop_all\n",
       " 4              2.004324e-05  45_loop_all\n",
       " ...                     ...          ...\n",
       " 346            3.784193e+00  45_loop_all\n",
       " 347            3.823939e+00  45_loop_all\n",
       " 348            3.863794e+00  45_loop_all\n",
       " 349            3.903758e+00  45_loop_all\n",
       " 350            3.943830e+00  45_loop_all\n",
       " \n",
       " [351 rows x 2 columns],\n",
       " Scenario               Test         loop\n",
       " Gas cycle set       default             \n",
       " Year                                    \n",
       " 0              8.217656e-07  46_loop_all\n",
       " 1              3.544477e-06  46_loop_all\n",
       " 2              7.716626e-06  46_loop_all\n",
       " 3              1.244311e-05  46_loop_all\n",
       " 4              1.747946e-05  46_loop_all\n",
       " ...                     ...          ...\n",
       " 346            3.417843e+00  46_loop_all\n",
       " 347            3.456150e+00  46_loop_all\n",
       " 348            3.494610e+00  46_loop_all\n",
       " 349            3.533221e+00  46_loop_all\n",
       " 350            3.571984e+00  46_loop_all\n",
       " \n",
       " [351 rows x 2 columns],\n",
       " Scenario               Test         loop\n",
       " Gas cycle set       default             \n",
       " Year                                    \n",
       " 0              7.156972e-07  47_loop_all\n",
       " 1              3.043926e-06  47_loop_all\n",
       " 2              6.503061e-06  47_loop_all\n",
       " 3              1.027169e-05  47_loop_all\n",
       " 4              1.415251e-05  47_loop_all\n",
       " ...                     ...          ...\n",
       " 346            2.041703e+00  47_loop_all\n",
       " 347            2.062707e+00  47_loop_all\n",
       " 348            2.083773e+00  47_loop_all\n",
       " 349            2.104900e+00  47_loop_all\n",
       " 350            2.126087e+00  47_loop_all\n",
       " \n",
       " [351 rows x 2 columns],\n",
       " Scenario               Test         loop\n",
       " Gas cycle set       default             \n",
       " Year                                    \n",
       " 0              7.383399e-07  48_loop_all\n",
       " 1              3.151562e-06  48_loop_all\n",
       " 2              6.766589e-06  48_loop_all\n",
       " 3              1.074859e-05  48_loop_all\n",
       " 4              1.489193e-05  48_loop_all\n",
       " ...                     ...          ...\n",
       " 346            2.672503e+00  48_loop_all\n",
       " 347            2.702858e+00  48_loop_all\n",
       " 348            2.733346e+00  48_loop_all\n",
       " 349            2.763967e+00  48_loop_all\n",
       " 350            2.794719e+00  48_loop_all\n",
       " \n",
       " [351 rows x 2 columns],\n",
       " Scenario               Test         loop\n",
       " Gas cycle set       default             \n",
       " Year                                    \n",
       " 0              7.693422e-07  49_loop_all\n",
       " 1              3.296813e-06  49_loop_all\n",
       " 2              7.115282e-06  49_loop_all\n",
       " 3              1.136527e-05  49_loop_all\n",
       " 4              1.582500e-05  49_loop_all\n",
       " ...                     ...          ...\n",
       " 346            2.610922e+00  49_loop_all\n",
       " 347            2.638528e+00  49_loop_all\n",
       " 348            2.666222e+00  49_loop_all\n",
       " 349            2.694004e+00  49_loop_all\n",
       " 350            2.721874e+00  49_loop_all\n",
       " \n",
       " [351 rows x 2 columns],\n",
       " Scenario               Test         loop\n",
       " Gas cycle set       default             \n",
       " Year                                    \n",
       " 0              6.283881e-07  50_loop_all\n",
       " 1              2.633410e-06  50_loop_all\n",
       " 2              5.512736e-06  50_loop_all\n",
       " 3              8.510067e-06  50_loop_all\n",
       " 4              1.147029e-05  50_loop_all\n",
       " ...                     ...          ...\n",
       " 346            1.590344e+00  50_loop_all\n",
       " 347            1.608511e+00  50_loop_all\n",
       " 348            1.626764e+00  50_loop_all\n",
       " 349            1.645103e+00  50_loop_all\n",
       " 350            1.663529e+00  50_loop_all\n",
       " \n",
       " [351 rows x 2 columns],\n",
       " Scenario               Test         loop\n",
       " Gas cycle set       default             \n",
       " Year                                    \n",
       " 0              5.670352e-07  51_loop_all\n",
       " 1              2.344046e-06  51_loop_all\n",
       " 2              4.811738e-06  51_loop_all\n",
       " 3              7.256932e-06  51_loop_all\n",
       " 4              9.552185e-06  51_loop_all\n",
       " ...                     ...          ...\n",
       " 346            9.052723e-01  51_loop_all\n",
       " 347            9.152958e-01  51_loop_all\n",
       " 348            9.253675e-01  51_loop_all\n",
       " 349            9.354867e-01  51_loop_all\n",
       " 350            9.456528e-01  51_loop_all\n",
       " \n",
       " [351 rows x 2 columns],\n",
       " Scenario               Test         loop\n",
       " Gas cycle set       default             \n",
       " Year                                    \n",
       " 0              8.659562e-07  52_loop_all\n",
       " 1              3.751943e-06  52_loop_all\n",
       " 2              8.216084e-06  52_loop_all\n",
       " 3              1.332940e-05  52_loop_all\n",
       " 4              1.882536e-05  52_loop_all\n",
       " ...                     ...          ...\n",
       " 346            3.521837e+00  52_loop_all\n",
       " 347            3.559398e+00  52_loop_all\n",
       " 348            3.597076e+00  52_loop_all\n",
       " 349            3.634869e+00  52_loop_all\n",
       " 350            3.672777e+00  52_loop_all\n",
       " \n",
       " [351 rows x 2 columns],\n",
       " Scenario               Test         loop\n",
       " Gas cycle set       default             \n",
       " Year                                    \n",
       " 0              8.072409e-07  53_loop_all\n",
       " 1              3.475186e-06  53_loop_all\n",
       " 2              7.546182e-06  53_loop_all\n",
       " 3              1.213301e-05  53_loop_all\n",
       " 4              1.699599e-05  53_loop_all\n",
       " ...                     ...          ...\n",
       " 346            2.894078e+00  53_loop_all\n",
       " 347            2.924342e+00  53_loop_all\n",
       " 348            2.954694e+00  53_loop_all\n",
       " 349            2.985135e+00  53_loop_all\n",
       " 350            3.015662e+00  53_loop_all\n",
       " \n",
       " [351 rows x 2 columns],\n",
       " Scenario           Test         loop\n",
       " Gas cycle set   default             \n",
       " Year                                \n",
       " 0              0.000001  54_loop_all\n",
       " 1              0.000005  54_loop_all\n",
       " 2              0.000010  54_loop_all\n",
       " 3              0.000017  54_loop_all\n",
       " 4              0.000024  54_loop_all\n",
       " ...                 ...          ...\n",
       " 346            5.147118  54_loop_all\n",
       " 347            5.202654  54_loop_all\n",
       " 348            5.258353  54_loop_all\n",
       " 349            5.314213  54_loop_all\n",
       " 350            5.370232  54_loop_all\n",
       " \n",
       " [351 rows x 2 columns],\n",
       " Scenario               Test         loop\n",
       " Gas cycle set       default             \n",
       " Year                                    \n",
       " 0              7.358210e-07  55_loop_all\n",
       " 1              3.138808e-06  55_loop_all\n",
       " 2              6.732821e-06  55_loop_all\n",
       " 3              1.068222e-05  55_loop_all\n",
       " 4              1.478055e-05  55_loop_all\n",
       " ...                     ...          ...\n",
       " 346            2.261386e+00  55_loop_all\n",
       " 347            2.284970e+00  55_loop_all\n",
       " 348            2.308626e+00  55_loop_all\n",
       " 349            2.332353e+00  55_loop_all\n",
       " 350            2.356153e+00  55_loop_all\n",
       " \n",
       " [351 rows x 2 columns],\n",
       " Scenario               Test         loop\n",
       " Gas cycle set       default             \n",
       " Year                                    \n",
       " 0              8.717876e-07  56_loop_all\n",
       " 1              3.780044e-06  56_loop_all\n",
       " 2              8.286126e-06  56_loop_all\n",
       " 3              1.345872e-05  56_loop_all\n",
       " 4              1.903000e-05  56_loop_all\n",
       " ...                     ...          ...\n",
       " 346            3.862893e+00  56_loop_all\n",
       " 347            3.905917e+00  56_loop_all\n",
       " 348            3.949104e+00  56_loop_all\n",
       " 349            3.992453e+00  56_loop_all\n",
       " 350            4.035964e+00  56_loop_all\n",
       " \n",
       " [351 rows x 2 columns],\n",
       " Scenario               Test         loop\n",
       " Gas cycle set       default             \n",
       " Year                                    \n",
       " 0              9.163827e-07  57_loop_all\n",
       " 1              3.988955e-06  57_loop_all\n",
       " 2              8.787567e-06  57_loop_all\n",
       " 3              1.434538e-05  57_loop_all\n",
       " 4              2.037129e-05  57_loop_all\n",
       " ...                     ...          ...\n",
       " 346            3.764282e+00  57_loop_all\n",
       " 347            3.803060e+00  57_loop_all\n",
       " 348            3.841931e+00  57_loop_all\n",
       " 349            3.880895e+00  57_loop_all\n",
       " 350            3.919949e+00  57_loop_all\n",
       " \n",
       " [351 rows x 2 columns],\n",
       " Scenario               Test         loop\n",
       " Gas cycle set       default             \n",
       " Year                                    \n",
       " 0              6.838805e-07  58_loop_all\n",
       " 1              2.894081e-06  58_loop_all\n",
       " 2              6.140762e-06  58_loop_all\n",
       " 3              9.625509e-06  58_loop_all\n",
       " 4              1.316585e-05  58_loop_all\n",
       " ...                     ...          ...\n",
       " 346            1.769945e+00  58_loop_all\n",
       " 347            1.788135e+00  58_loop_all\n",
       " 348            1.806380e+00  58_loop_all\n",
       " 349            1.824679e+00  58_loop_all\n",
       " 350            1.843033e+00  58_loop_all\n",
       " \n",
       " [351 rows x 2 columns],\n",
       " Scenario               Test         loop\n",
       " Gas cycle set       default             \n",
       " Year                                    \n",
       " 0              7.270155e-07  59_loop_all\n",
       " 1              3.097672e-06  59_loop_all\n",
       " 2              6.634462e-06  59_loop_all\n",
       " 3              1.050910e-05  59_loop_all\n",
       " 4              1.451998e-05  59_loop_all\n",
       " ...                     ...          ...\n",
       " 346            2.330862e+00  59_loop_all\n",
       " 347            2.356093e+00  59_loop_all\n",
       " 348            2.381417e+00  59_loop_all\n",
       " 349            2.406834e+00  59_loop_all\n",
       " 350            2.432342e+00  59_loop_all\n",
       " \n",
       " [351 rows x 2 columns],\n",
       " Scenario               Test         loop\n",
       " Gas cycle set       default             \n",
       " Year                                    \n",
       " 0              6.719333e-07  60_loop_all\n",
       " 1              2.837472e-06  60_loop_all\n",
       " 2              6.002764e-06  60_loop_all\n",
       " 3              9.377020e-06  60_loop_all\n",
       " 4              1.278257e-05  60_loop_all\n",
       " ...                     ...          ...\n",
       " 346            1.522355e+00  60_loop_all\n",
       " 347            1.537065e+00  60_loop_all\n",
       " 348            1.551805e+00  60_loop_all\n",
       " 349            1.566576e+00  60_loop_all\n",
       " 350            1.581377e+00  60_loop_all\n",
       " \n",
       " [351 rows x 2 columns],\n",
       " Scenario               Test         loop\n",
       " Gas cycle set       default             \n",
       " Year                                    \n",
       " 0              7.713922e-07  61_loop_all\n",
       " 1              3.307440e-06  61_loop_all\n",
       " 2              7.144177e-06  61_loop_all\n",
       " 3              1.142351e-05  61_loop_all\n",
       " 4              1.592489e-05  61_loop_all\n",
       " ...                     ...          ...\n",
       " 346            3.058063e+00  61_loop_all\n",
       " 347            3.093099e+00  61_loop_all\n",
       " 348            3.128291e+00  61_loop_all\n",
       " 349            3.163637e+00  61_loop_all\n",
       " 350            3.199137e+00  61_loop_all\n",
       " \n",
       " [351 rows x 2 columns],\n",
       " Scenario               Test         loop\n",
       " Gas cycle set       default             \n",
       " Year                                    \n",
       " 0              7.787738e-07  62_loop_all\n",
       " 1              3.341066e-06  62_loop_all\n",
       " 2              7.221738e-06  62_loop_all\n",
       " 3              1.155400e-05  62_loop_all\n",
       " 4              1.611132e-05  62_loop_all\n",
       " ...                     ...          ...\n",
       " 346            2.621106e+00  62_loop_all\n",
       " 347            2.648361e+00  62_loop_all\n",
       " 348            2.675694e+00  62_loop_all\n",
       " 349            2.703106e+00  62_loop_all\n",
       " 350            2.730596e+00  62_loop_all\n",
       " \n",
       " [351 rows x 2 columns],\n",
       " Scenario               Test         loop\n",
       " Gas cycle set       default             \n",
       " Year                                    \n",
       " 0              7.132762e-07  63_loop_all\n",
       " 1              3.033563e-06  63_loop_all\n",
       " 2              6.481424e-06  63_loop_all\n",
       " 3              1.024027e-05  63_loop_all\n",
       " 4              1.411623e-05  63_loop_all\n",
       " ...                     ...          ...\n",
       " 346            2.472036e+00  63_loop_all\n",
       " 347            2.500391e+00  63_loop_all\n",
       " 348            2.528876e+00  63_loop_all\n",
       " 349            2.557490e+00  63_loop_all\n",
       " 350            2.586232e+00  63_loop_all\n",
       " \n",
       " [351 rows x 2 columns],\n",
       " Scenario               Test         loop\n",
       " Gas cycle set       default             \n",
       " Year                                    \n",
       " 0              8.409664e-07  64_loop_all\n",
       " 1              3.634209e-06  64_loop_all\n",
       " 2              7.931290e-06  64_loop_all\n",
       " 3              1.282117e-05  64_loop_all\n",
       " 4              1.804887e-05  64_loop_all\n",
       " ...                     ...          ...\n",
       " 346            3.278360e+00  64_loop_all\n",
       " 347            3.313217e+00  64_loop_all\n",
       " 348            3.348182e+00  64_loop_all\n",
       " 349            3.383255e+00  64_loop_all\n",
       " 350            3.418434e+00  64_loop_all\n",
       " \n",
       " [351 rows x 2 columns],\n",
       " Scenario               Test         loop\n",
       " Gas cycle set       default             \n",
       " Year                                    \n",
       " 0              7.690161e-07  65_loop_all\n",
       " 1              3.295081e-06  65_loop_all\n",
       " 2              7.110450e-06  65_loop_all\n",
       " 3              1.135530e-05  65_loop_all\n",
       " 4              1.580757e-05  65_loop_all\n",
       " ...                     ...          ...\n",
       " 346            2.522049e+00  65_loop_all\n",
       " 347            2.548179e+00  65_loop_all\n",
       " 348            2.574384e+00  65_loop_all\n",
       " 349            2.600664e+00  65_loop_all\n",
       " 350            2.627017e+00  65_loop_all\n",
       " \n",
       " [351 rows x 2 columns],\n",
       " Scenario           Test         loop\n",
       " Gas cycle set   default             \n",
       " Year                                \n",
       " 0              0.000001  66_loop_all\n",
       " 1              0.000005  66_loop_all\n",
       " 2              0.000010  66_loop_all\n",
       " 3              0.000017  66_loop_all\n",
       " 4              0.000025  66_loop_all\n",
       " ...                 ...          ...\n",
       " 346            5.415153  66_loop_all\n",
       " 347            5.474260  66_loop_all\n",
       " 348            5.533548  66_loop_all\n",
       " 349            5.593017  66_loop_all\n",
       " 350            5.652666  66_loop_all\n",
       " \n",
       " [351 rows x 2 columns],\n",
       " Scenario               Test         loop\n",
       " Gas cycle set       default             \n",
       " Year                                    \n",
       " 0              5.882776e-07  67_loop_all\n",
       " 1              2.445169e-06  67_loop_all\n",
       " 2              5.059785e-06  67_loop_all\n",
       " 3              7.706782e-06  67_loop_all\n",
       " 4              1.025122e-05  67_loop_all\n",
       " ...                     ...          ...\n",
       " 346            1.535350e+00  67_loop_all\n",
       " 347            1.554721e+00  67_loop_all\n",
       " 348            1.574213e+00  67_loop_all\n",
       " 349            1.593824e+00  67_loop_all\n",
       " 350            1.613556e+00  67_loop_all\n",
       " \n",
       " [351 rows x 2 columns],\n",
       " Scenario               Test         loop\n",
       " Gas cycle set       default             \n",
       " Year                                    \n",
       " 0              6.478485e-07  68_loop_all\n",
       " 1              2.724334e-06  68_loop_all\n",
       " 2              5.730181e-06  68_loop_all\n",
       " 3              8.892873e-06  68_loop_all\n",
       " 4              1.204661e-05  68_loop_all\n",
       " ...                     ...          ...\n",
       " 346            1.444541e+00  68_loop_all\n",
       " 347            1.459245e+00  68_loop_all\n",
       " 348            1.473994e+00  68_loop_all\n",
       " 349            1.488787e+00  68_loop_all\n",
       " 350            1.503624e+00  68_loop_all\n",
       " \n",
       " [351 rows x 2 columns],\n",
       " Scenario               Test         loop\n",
       " Gas cycle set       default             \n",
       " Year                                    \n",
       " 0              8.691858e-07  69_loop_all\n",
       " 1              3.767183e-06  69_loop_all\n",
       " 2              8.253029e-06  69_loop_all\n",
       " 3              1.339550e-05  69_loop_all\n",
       " 4              1.892662e-05  69_loop_all\n",
       " ...                     ...          ...\n",
       " 346            3.564507e+00  69_loop_all\n",
       " 347            3.602608e+00  69_loop_all\n",
       " 348            3.640828e+00  69_loop_all\n",
       " 349            3.679167e+00  69_loop_all\n",
       " 350            3.717623e+00  69_loop_all\n",
       " \n",
       " [351 rows x 2 columns],\n",
       " Scenario               Test         loop\n",
       " Gas cycle set       default             \n",
       " Year                                    \n",
       " 0              8.310550e-07  70_loop_all\n",
       " 1              3.587019e-06  70_loop_all\n",
       " 2              7.815510e-06  70_loop_all\n",
       " 3              1.261114e-05  70_loop_all\n",
       " 4              1.772242e-05  70_loop_all\n",
       " ...                     ...          ...\n",
       " 346            2.961968e+00  70_loop_all\n",
       " 347            2.992039e+00  70_loop_all\n",
       " 348            3.022180e+00  70_loop_all\n",
       " 349            3.052393e+00  70_loop_all\n",
       " 350            3.082675e+00  70_loop_all\n",
       " \n",
       " [351 rows x 2 columns],\n",
       " Scenario               Test         loop\n",
       " Gas cycle set       default             \n",
       " Year                                    \n",
       " 0              6.638619e-07  71_loop_all\n",
       " 1              2.799926e-06  71_loop_all\n",
       " 2              5.913522e-06  71_loop_all\n",
       " 3              9.221074e-06  71_loop_all\n",
       " 4              1.254971e-05  71_loop_all\n",
       " ...                     ...          ...\n",
       " 346            1.653720e+00  71_loop_all\n",
       " 347            1.671049e+00  71_loop_all\n",
       " 348            1.688437e+00  71_loop_all\n",
       " 349            1.705883e+00  71_loop_all\n",
       " 350            1.723387e+00  71_loop_all\n",
       " \n",
       " [351 rows x 2 columns],\n",
       " Scenario               Test         loop\n",
       " Gas cycle set       default             \n",
       " Year                                    \n",
       " 0              6.098098e-07  72_loop_all\n",
       " 1              2.546563e-06  72_loop_all\n",
       " 2              5.304889e-06  72_loop_all\n",
       " 3              8.143837e-06  72_loop_all\n",
       " 4              1.091840e-05  72_loop_all\n",
       " ...                     ...          ...\n",
       " 346            1.710146e+00  72_loop_all\n",
       " 347            1.731297e+00  72_loop_all\n",
       " 348            1.752572e+00  72_loop_all\n",
       " 349            1.773972e+00  72_loop_all\n",
       " 350            1.795496e+00  72_loop_all\n",
       " \n",
       " [351 rows x 2 columns],\n",
       " Scenario               Test         loop\n",
       " Gas cycle set       default             \n",
       " Year                                    \n",
       " 0              8.901021e-07  73_loop_all\n",
       " 1              3.865288e-06  73_loop_all\n",
       " 2              8.488908e-06  73_loop_all\n",
       " 3              1.381342e-05  73_loop_all\n",
       " 4              1.956023e-05  73_loop_all\n",
       " ...                     ...          ...\n",
       " 346            3.572534e+00  73_loop_all\n",
       " 347            3.609573e+00  73_loop_all\n",
       " 348            3.646707e+00  73_loop_all\n",
       " 349            3.683935e+00  73_loop_all\n",
       " 350            3.721257e+00  73_loop_all\n",
       " \n",
       " [351 rows x 2 columns],\n",
       " Scenario               Test         loop\n",
       " Gas cycle set       default             \n",
       " Year                                    \n",
       " 0              8.404305e-07  74_loop_all\n",
       " 1              3.631864e-06  74_loop_all\n",
       " 2              7.926209e-06  74_loop_all\n",
       " 3              1.281334e-05  74_loop_all\n",
       " 4              1.803894e-05  74_loop_all\n",
       " ...                     ...          ...\n",
       " 346            3.353724e+00  74_loop_all\n",
       " 347            3.389888e+00  74_loop_all\n",
       " 348            3.426172e+00  74_loop_all\n",
       " 349            3.462576e+00  74_loop_all\n",
       " 350            3.499099e+00  74_loop_all\n",
       " \n",
       " [351 rows x 2 columns],\n",
       " Scenario               Test         loop\n",
       " Gas cycle set       default             \n",
       " Year                                    \n",
       " 0              6.371734e-07  75_loop_all\n",
       " 1              2.674203e-06  75_loop_all\n",
       " 2              5.609451e-06  75_loop_all\n",
       " 3              8.678544e-06  75_loop_all\n",
       " 4              1.172098e-05  75_loop_all\n",
       " ...                     ...          ...\n",
       " 346            1.416592e+00  75_loop_all\n",
       " 347            1.431399e+00  75_loop_all\n",
       " 348            1.446259e+00  75_loop_all\n",
       " 349            1.461170e+00  75_loop_all\n",
       " 350            1.476132e+00  75_loop_all\n",
       " \n",
       " [351 rows x 2 columns],\n",
       " Scenario               Test         loop\n",
       " Gas cycle set       default             \n",
       " Year                                    \n",
       " 0              6.215057e-07  76_loop_all\n",
       " 1              2.600324e-06  76_loop_all\n",
       " 2              5.430524e-06  76_loop_all\n",
       " 3              8.358792e-06  76_loop_all\n",
       " 4              1.123173e-05  76_loop_all\n",
       " ...                     ...          ...\n",
       " 346            1.247283e+00  76_loop_all\n",
       " 347            1.260111e+00  76_loop_all\n",
       " 348            1.272982e+00  76_loop_all\n",
       " 349            1.285896e+00  76_loop_all\n",
       " 350            1.298851e+00  76_loop_all\n",
       " \n",
       " [351 rows x 2 columns],\n",
       " Scenario               Test         loop\n",
       " Gas cycle set       default             \n",
       " Year                                    \n",
       " 0              6.130928e-07  77_loop_all\n",
       " 1              2.560504e-06  77_loop_all\n",
       " 2              5.333598e-06  77_loop_all\n",
       " 3              8.184555e-06  77_loop_all\n",
       " 4              1.096346e-05  77_loop_all\n",
       " ...                     ...          ...\n",
       " 346            1.094078e+00  77_loop_all\n",
       " 347            1.104813e+00  77_loop_all\n",
       " 348            1.115576e+00  77_loop_all\n",
       " 349            1.126367e+00  77_loop_all\n",
       " 350            1.137187e+00  77_loop_all\n",
       " \n",
       " [351 rows x 2 columns],\n",
       " Scenario               Test         loop\n",
       " Gas cycle set       default             \n",
       " Year                                    \n",
       " 0              7.815928e-07  78_loop_all\n",
       " 1              3.354218e-06  78_loop_all\n",
       " 2              7.253124e-06  78_loop_all\n",
       " 3              1.160912e-05  78_loop_all\n",
       " 4              1.619407e-05  78_loop_all\n",
       " ...                     ...          ...\n",
       " 346            2.590761e+00  78_loop_all\n",
       " 347            2.617349e+00  78_loop_all\n",
       " 348            2.644008e+00  78_loop_all\n",
       " 349            2.670737e+00  78_loop_all\n",
       " 350            2.697537e+00  78_loop_all\n",
       " \n",
       " [351 rows x 2 columns],\n",
       " Scenario               Test         loop\n",
       " Gas cycle set       default             \n",
       " Year                                    \n",
       " 0              7.218329e-07  79_loop_all\n",
       " 1              3.072753e-06  79_loop_all\n",
       " 2              6.572533e-06  79_loop_all\n",
       " 3              1.039512e-05  79_loop_all\n",
       " 4              1.434020e-05  79_loop_all\n",
       " ...                     ...          ...\n",
       " 346            2.064446e+00  79_loop_all\n",
       " 347            2.085497e+00  79_loop_all\n",
       " 348            2.106605e+00  79_loop_all\n",
       " 349            2.127772e+00  79_loop_all\n",
       " 350            2.148995e+00  79_loop_all\n",
       " \n",
       " [351 rows x 2 columns],\n",
       " Scenario               Test         loop\n",
       " Gas cycle set       default             \n",
       " Year                                    \n",
       " 0              5.994309e-07  80_loop_all\n",
       " 1              2.496073e-06  80_loop_all\n",
       " 2              5.177524e-06  80_loop_all\n",
       " 3              7.905579e-06  80_loop_all\n",
       " 4              1.053649e-05  80_loop_all\n",
       " ...                     ...          ...\n",
       " 346            9.441047e-01  80_loop_all\n",
       " 347            9.530773e-01  80_loop_all\n",
       " 348            9.620708e-01  80_loop_all\n",
       " 349            9.710847e-01  80_loop_all\n",
       " 350            9.801185e-01  80_loop_all\n",
       " \n",
       " [351 rows x 2 columns],\n",
       " Scenario               Test         loop\n",
       " Gas cycle set       default             \n",
       " Year                                    \n",
       " 0              6.479443e-07  81_loop_all\n",
       " 1              2.727204e-06  81_loop_all\n",
       " 2              5.745074e-06  81_loop_all\n",
       " 3              8.936119e-06  81_loop_all\n",
       " 4              1.213988e-05  81_loop_all\n",
       " ...                     ...          ...\n",
       " 346            2.483795e+00  81_loop_all\n",
       " 347            2.515893e+00  81_loop_all\n",
       " 348            2.548195e+00  81_loop_all\n",
       " 349            2.580699e+00  81_loop_all\n",
       " 350            2.613406e+00  81_loop_all\n",
       " \n",
       " [351 rows x 2 columns],\n",
       " Scenario               Test         loop\n",
       " Gas cycle set       default             \n",
       " Year                                    \n",
       " 0              5.694031e-07  82_loop_all\n",
       " 1              2.355053e-06  82_loop_all\n",
       " 2              4.837875e-06  82_loop_all\n",
       " 3              7.302549e-06  82_loop_all\n",
       " 4              9.620208e-06  82_loop_all\n",
       " ...                     ...          ...\n",
       " 346            8.642414e-01  82_loop_all\n",
       " 347            8.734638e-01  82_loop_all\n",
       " 348            8.827259e-01  82_loop_all\n",
       " 349            8.920271e-01  82_loop_all\n",
       " 350            9.013668e-01  82_loop_all\n",
       " \n",
       " [351 rows x 2 columns],\n",
       " Scenario               Test         loop\n",
       " Gas cycle set       default             \n",
       " Year                                    \n",
       " 0              7.243524e-07  83_loop_all\n",
       " 1              3.084662e-06  83_loop_all\n",
       " 2              6.601466e-06  83_loop_all\n",
       " 3              1.044702e-05  83_loop_all\n",
       " 4              1.441992e-05  83_loop_all\n",
       " ...                     ...          ...\n",
       " 346            2.104555e+00  83_loop_all\n",
       " 347            2.126139e+00  83_loop_all\n",
       " 348            2.147785e+00  83_loop_all\n",
       " 349            2.169491e+00  83_loop_all\n",
       " 350            2.191258e+00  83_loop_all\n",
       " \n",
       " [351 rows x 2 columns],\n",
       " Scenario               Test         loop\n",
       " Gas cycle set       default             \n",
       " Year                                    \n",
       " 0              6.509907e-07  84_loop_all\n",
       " 1              2.740013e-06  84_loop_all\n",
       " 2              5.770985e-06  84_loop_all\n",
       " 3              8.971722e-06  84_loop_all\n",
       " 4              1.217692e-05  84_loop_all\n",
       " ...                     ...          ...\n",
       " 346            1.846730e+00  84_loop_all\n",
       " 347            1.867969e+00  84_loop_all\n",
       " 348            1.889310e+00  84_loop_all\n",
       " 349            1.910752e+00  84_loop_all\n",
       " 350            1.932295e+00  84_loop_all\n",
       " \n",
       " [351 rows x 2 columns],\n",
       " Scenario               Test         loop\n",
       " Gas cycle set       default             \n",
       " Year                                    \n",
       " 0              7.598854e-07  85_loop_all\n",
       " 1              3.252152e-06  85_loop_all\n",
       " 2              7.006901e-06  85_loop_all\n",
       " 3              1.117112e-05  85_loop_all\n",
       " 4              1.552719e-05  85_loop_all\n",
       " ...                     ...          ...\n",
       " 346            2.474852e+00  85_loop_all\n",
       " 347            2.500694e+00  85_loop_all\n",
       " 348            2.526613e+00  85_loop_all\n",
       " 349            2.552611e+00  85_loop_all\n",
       " 350            2.578685e+00  85_loop_all\n",
       " \n",
       " [351 rows x 2 columns],\n",
       " Scenario               Test         loop\n",
       " Gas cycle set       default             \n",
       " Year                                    \n",
       " 0              6.991520e-07  86_loop_all\n",
       " 1              2.966961e-06  86_loop_all\n",
       " 2              6.320119e-06  86_loop_all\n",
       " 3              9.952000e-06  86_loop_all\n",
       " 4              1.367514e-05  86_loop_all\n",
       " ...                     ...          ...\n",
       " 346            2.313677e+00  86_loop_all\n",
       " 347            2.340140e+00  86_loop_all\n",
       " 348            2.366724e+00  86_loop_all\n",
       " 349            2.393429e+00  86_loop_all\n",
       " 350            2.420253e+00  86_loop_all\n",
       " \n",
       " [351 rows x 2 columns],\n",
       " Scenario           Test         loop\n",
       " Gas cycle set   default             \n",
       " Year                                \n",
       " 0              0.000001  87_loop_all\n",
       " 1              0.000004  87_loop_all\n",
       " 2              0.000010  87_loop_all\n",
       " 3              0.000016  87_loop_all\n",
       " 4              0.000023  87_loop_all\n",
       " ...                 ...          ...\n",
       " 346            5.923936  87_loop_all\n",
       " 347            5.994094  87_loop_all\n",
       " 348            6.064565  87_loop_all\n",
       " 349            6.135350  87_loop_all\n",
       " 350            6.206446  87_loop_all\n",
       " \n",
       " [351 rows x 2 columns],\n",
       " Scenario               Test         loop\n",
       " Gas cycle set       default             \n",
       " Year                                    \n",
       " 0              6.860781e-07  88_loop_all\n",
       " 1              2.904109e-06  88_loop_all\n",
       " 2              6.163949e-06  88_loop_all\n",
       " 3              9.664644e-06  88_loop_all\n",
       " 4              1.322198e-05  88_loop_all\n",
       " ...                     ...          ...\n",
       " 346            1.650639e+00  88_loop_all\n",
       " 347            1.666723e+00  88_loop_all\n",
       " 348            1.682841e+00  88_loop_all\n",
       " 349            1.698994e+00  88_loop_all\n",
       " 350            1.715180e+00  88_loop_all\n",
       " \n",
       " [351 rows x 2 columns],\n",
       " Scenario               Test         loop\n",
       " Gas cycle set       default             \n",
       " Year                                    \n",
       " 0              8.269161e-07  89_loop_all\n",
       " 1              3.568208e-06  89_loop_all\n",
       " 2              7.772273e-06  89_loop_all\n",
       " 3              1.253873e-05  89_loop_all\n",
       " 4              1.761954e-05  89_loop_all\n",
       " ...                     ...          ...\n",
       " 346            3.228867e+00  89_loop_all\n",
       " 347            3.263681e+00  89_loop_all\n",
       " 348            3.298612e+00  89_loop_all\n",
       " 349            3.333659e+00  89_loop_all\n",
       " 350            3.368822e+00  89_loop_all\n",
       " \n",
       " [351 rows x 2 columns],\n",
       " Scenario               Test         loop\n",
       " Gas cycle set       default             \n",
       " Year                                    \n",
       " 0              9.086385e-07  90_loop_all\n",
       " 1              3.952784e-06  90_loop_all\n",
       " 2              8.701102e-06  90_loop_all\n",
       " 3              1.419324e-05  90_loop_all\n",
       " 4              2.014238e-05  90_loop_all\n",
       " ...                     ...          ...\n",
       " 346            3.830325e+00  90_loop_all\n",
       " 347            3.870673e+00  90_loop_all\n",
       " 348            3.911134e+00  90_loop_all\n",
       " 349            3.951707e+00  90_loop_all\n",
       " 350            3.992391e+00  90_loop_all\n",
       " \n",
       " [351 rows x 2 columns]]"
      ]
     },
     "execution_count": 14,
     "metadata": {},
     "output_type": "execute_result"
    }
   ],
   "source": [
    "list_dfs"
   ]
  },
  {
   "cell_type": "markdown",
   "id": "1b31154c",
   "metadata": {},
   "source": [
    "### end of script"
   ]
  }
 ],
 "metadata": {
  "kernelspec": {
   "display_name": "Python 3 (ipykernel)",
   "language": "python",
   "name": "python3"
  },
  "language_info": {
   "codemirror_mode": {
    "name": "ipython",
    "version": 3
   },
   "file_extension": ".py",
   "mimetype": "text/x-python",
   "name": "python",
   "nbconvert_exporter": "python",
   "pygments_lexer": "ipython3",
   "version": "3.9.7"
  }
 },
 "nbformat": 4,
 "nbformat_minor": 5
}
